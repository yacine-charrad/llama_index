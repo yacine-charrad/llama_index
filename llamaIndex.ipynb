{
  "cells": [
    {
      "cell_type": "markdown",
      "metadata": {
        "id": "DfRE18X_mqvI"
      },
      "source": [
        "### Install Packages"
      ]
    },
    {
      "cell_type": "code",
      "execution_count": 1,
      "metadata": {
        "colab": {
          "base_uri": "https://localhost:8080/"
        },
        "id": "qfBKaUU2mqvK",
        "outputId": "1a2ddd2a-ffa5-49fa-9035-ee71a60dfa31"
      },
      "outputs": [
        {
          "name": "stdout",
          "output_type": "stream",
          "text": [
            "Defaulting to user installation because normal site-packages is not writeable\n",
            "Requirement already satisfied: llama-index==0.10.18 in c:\\users\\e5752190\\appdata\\roaming\\python\\python312\\site-packages (0.10.18)\n",
            "Requirement already satisfied: llama-index-llms-groq==0.1.3 in c:\\users\\e5752190\\appdata\\roaming\\python\\python312\\site-packages (0.1.3)\n",
            "Requirement already satisfied: groq==0.4.2 in c:\\users\\e5752190\\appdata\\roaming\\python\\python312\\site-packages (0.4.2)\n",
            "Requirement already satisfied: llama-index-embeddings-huggingface==0.2.0 in c:\\users\\e5752190\\appdata\\roaming\\python\\python312\\site-packages (0.2.0)\n",
            "Requirement already satisfied: llama-index-agent-openai<0.2.0,>=0.1.4 in c:\\users\\e5752190\\appdata\\roaming\\python\\python312\\site-packages (from llama-index==0.10.18) (0.1.7)\n",
            "Requirement already satisfied: llama-index-cli<0.2.0,>=0.1.2 in c:\\users\\e5752190\\appdata\\roaming\\python\\python312\\site-packages (from llama-index==0.10.18) (0.1.13)\n",
            "Requirement already satisfied: llama-index-core<0.11.0,>=0.10.18 in c:\\users\\e5752190\\appdata\\roaming\\python\\python312\\site-packages (from llama-index==0.10.18) (0.10.68.post1)\n",
            "Requirement already satisfied: llama-index-embeddings-openai<0.2.0,>=0.1.5 in c:\\users\\e5752190\\appdata\\roaming\\python\\python312\\site-packages (from llama-index==0.10.18) (0.1.11)\n",
            "Requirement already satisfied: llama-index-indices-managed-llama-cloud<0.2.0,>=0.1.2 in c:\\users\\e5752190\\appdata\\roaming\\python\\python312\\site-packages (from llama-index==0.10.18) (0.1.6)\n",
            "Requirement already satisfied: llama-index-legacy<0.10.0,>=0.9.48 in c:\\users\\e5752190\\appdata\\roaming\\python\\python312\\site-packages (from llama-index==0.10.18) (0.9.48.post4)\n",
            "Requirement already satisfied: llama-index-llms-openai<0.2.0,>=0.1.5 in c:\\users\\e5752190\\appdata\\roaming\\python\\python312\\site-packages (from llama-index==0.10.18) (0.1.31)\n",
            "Requirement already satisfied: llama-index-multi-modal-llms-openai<0.2.0,>=0.1.3 in c:\\users\\e5752190\\appdata\\roaming\\python\\python312\\site-packages (from llama-index==0.10.18) (0.1.9)\n",
            "Requirement already satisfied: llama-index-program-openai<0.2.0,>=0.1.3 in c:\\users\\e5752190\\appdata\\roaming\\python\\python312\\site-packages (from llama-index==0.10.18) (0.1.7)\n",
            "Requirement already satisfied: llama-index-question-gen-openai<0.2.0,>=0.1.2 in c:\\users\\e5752190\\appdata\\roaming\\python\\python312\\site-packages (from llama-index==0.10.18) (0.1.3)\n",
            "Requirement already satisfied: llama-index-readers-file<0.2.0,>=0.1.4 in c:\\users\\e5752190\\appdata\\roaming\\python\\python312\\site-packages (from llama-index==0.10.18) (0.1.33)\n",
            "Requirement already satisfied: llama-index-readers-llama-parse<0.2.0,>=0.1.2 in c:\\users\\e5752190\\appdata\\roaming\\python\\python312\\site-packages (from llama-index==0.10.18) (0.1.6)\n",
            "Requirement already satisfied: llama-index-llms-openai-like<0.2.0,>=0.1.3 in c:\\users\\e5752190\\appdata\\roaming\\python\\python312\\site-packages (from llama-index-llms-groq==0.1.3) (0.1.3)\n",
            "Requirement already satisfied: anyio<5,>=3.5.0 in c:\\users\\e5752190\\appdata\\roaming\\python\\python312\\site-packages (from groq==0.4.2) (4.9.0)\n",
            "Requirement already satisfied: distro<2,>=1.7.0 in c:\\users\\e5752190\\appdata\\roaming\\python\\python312\\site-packages (from groq==0.4.2) (1.9.0)\n",
            "Requirement already satisfied: httpx<1,>=0.23.0 in c:\\users\\e5752190\\appdata\\roaming\\python\\python312\\site-packages (from groq==0.4.2) (0.28.1)\n",
            "Requirement already satisfied: pydantic<3,>=1.9.0 in c:\\users\\e5752190\\appdata\\roaming\\python\\python312\\site-packages (from groq==0.4.2) (2.11.2)\n",
            "Requirement already satisfied: sniffio in c:\\users\\e5752190\\appdata\\roaming\\python\\python312\\site-packages (from groq==0.4.2) (1.3.1)\n",
            "Requirement already satisfied: typing-extensions<5,>=4.7 in c:\\users\\e5752190\\appdata\\roaming\\python\\python312\\site-packages (from groq==0.4.2) (4.13.1)\n",
            "Requirement already satisfied: huggingface-hub>=0.19.0 in c:\\users\\e5752190\\appdata\\roaming\\python\\python312\\site-packages (from huggingface-hub[inference]>=0.19.0->llama-index-embeddings-huggingface==0.2.0) (0.30.2)\n",
            "Requirement already satisfied: sentence-transformers<3.0.0,>=2.6.1 in c:\\users\\e5752190\\appdata\\roaming\\python\\python312\\site-packages (from llama-index-embeddings-huggingface==0.2.0) (2.7.0)\n",
            "Requirement already satisfied: idna>=2.8 in c:\\users\\e5752190\\appdata\\roaming\\python\\python312\\site-packages (from anyio<5,>=3.5.0->groq==0.4.2) (3.10)\n",
            "Requirement already satisfied: certifi in c:\\users\\e5752190\\appdata\\roaming\\python\\python312\\site-packages (from httpx<1,>=0.23.0->groq==0.4.2) (2025.1.31)\n",
            "Requirement already satisfied: httpcore==1.* in c:\\users\\e5752190\\appdata\\roaming\\python\\python312\\site-packages (from httpx<1,>=0.23.0->groq==0.4.2) (1.0.7)\n",
            "Requirement already satisfied: h11<0.15,>=0.13 in c:\\users\\e5752190\\appdata\\roaming\\python\\python312\\site-packages (from httpcore==1.*->httpx<1,>=0.23.0->groq==0.4.2) (0.14.0)\n",
            "Requirement already satisfied: PyYAML>=6.0.1 in c:\\users\\e5752190\\appdata\\roaming\\python\\python312\\site-packages (from llama-index-core<0.11.0,>=0.10.18->llama-index==0.10.18) (6.0.2)\n",
            "Requirement already satisfied: SQLAlchemy>=1.4.49 in c:\\users\\e5752190\\appdata\\roaming\\python\\python312\\site-packages (from SQLAlchemy[asyncio]>=1.4.49->llama-index-core<0.11.0,>=0.10.18->llama-index==0.10.18) (2.0.40)\n",
            "Requirement already satisfied: aiohttp<4.0.0,>=3.8.6 in c:\\users\\e5752190\\appdata\\roaming\\python\\python312\\site-packages (from llama-index-core<0.11.0,>=0.10.18->llama-index==0.10.18) (3.11.16)\n",
            "Requirement already satisfied: dataclasses-json in c:\\users\\e5752190\\appdata\\roaming\\python\\python312\\site-packages (from llama-index-core<0.11.0,>=0.10.18->llama-index==0.10.18) (0.6.7)\n",
            "Requirement already satisfied: deprecated>=1.2.9.3 in c:\\users\\e5752190\\appdata\\roaming\\python\\python312\\site-packages (from llama-index-core<0.11.0,>=0.10.18->llama-index==0.10.18) (1.2.18)\n",
            "Requirement already satisfied: dirtyjson<2.0.0,>=1.0.8 in c:\\users\\e5752190\\appdata\\roaming\\python\\python312\\site-packages (from llama-index-core<0.11.0,>=0.10.18->llama-index==0.10.18) (1.0.8)\n",
            "Requirement already satisfied: fsspec>=2023.5.0 in c:\\users\\e5752190\\appdata\\roaming\\python\\python312\\site-packages (from llama-index-core<0.11.0,>=0.10.18->llama-index==0.10.18) (2025.3.2)\n",
            "Requirement already satisfied: nest-asyncio<2.0.0,>=1.5.8 in c:\\users\\e5752190\\appdata\\roaming\\python\\python312\\site-packages (from llama-index-core<0.11.0,>=0.10.18->llama-index==0.10.18) (1.6.0)\n",
            "Requirement already satisfied: networkx>=3.0 in c:\\users\\e5752190\\appdata\\roaming\\python\\python312\\site-packages (from llama-index-core<0.11.0,>=0.10.18->llama-index==0.10.18) (3.4.2)\n",
            "Requirement already satisfied: nltk!=3.9,>=3.8.1 in c:\\users\\e5752190\\appdata\\roaming\\python\\python312\\site-packages (from llama-index-core<0.11.0,>=0.10.18->llama-index==0.10.18) (3.9.1)\n",
            "Requirement already satisfied: numpy<2.0.0 in c:\\users\\e5752190\\appdata\\roaming\\python\\python312\\site-packages (from llama-index-core<0.11.0,>=0.10.18->llama-index==0.10.18) (1.26.4)\n",
            "Requirement already satisfied: pandas in c:\\users\\e5752190\\appdata\\roaming\\python\\python312\\site-packages (from llama-index-core<0.11.0,>=0.10.18->llama-index==0.10.18) (2.2.3)\n",
            "Requirement already satisfied: pillow>=9.0.0 in c:\\users\\e5752190\\appdata\\roaming\\python\\python312\\site-packages (from llama-index-core<0.11.0,>=0.10.18->llama-index==0.10.18) (11.1.0)\n",
            "Requirement already satisfied: requests>=2.31.0 in c:\\users\\e5752190\\appdata\\roaming\\python\\python312\\site-packages (from llama-index-core<0.11.0,>=0.10.18->llama-index==0.10.18) (2.32.3)\n",
            "Requirement already satisfied: tenacity!=8.4.0,<9.0.0,>=8.2.0 in c:\\users\\e5752190\\appdata\\roaming\\python\\python312\\site-packages (from llama-index-core<0.11.0,>=0.10.18->llama-index==0.10.18) (8.5.0)\n",
            "Requirement already satisfied: tiktoken>=0.3.3 in c:\\users\\e5752190\\appdata\\roaming\\python\\python312\\site-packages (from llama-index-core<0.11.0,>=0.10.18->llama-index==0.10.18) (0.9.0)\n",
            "Requirement already satisfied: tqdm<5.0.0,>=4.66.1 in c:\\users\\e5752190\\appdata\\roaming\\python\\python312\\site-packages (from llama-index-core<0.11.0,>=0.10.18->llama-index==0.10.18) (4.67.1)\n",
            "Requirement already satisfied: typing-inspect>=0.8.0 in c:\\users\\e5752190\\appdata\\roaming\\python\\python312\\site-packages (from llama-index-core<0.11.0,>=0.10.18->llama-index==0.10.18) (0.9.0)\n",
            "Requirement already satisfied: wrapt in c:\\users\\e5752190\\appdata\\roaming\\python\\python312\\site-packages (from llama-index-core<0.11.0,>=0.10.18->llama-index==0.10.18) (1.17.2)\n",
            "Requirement already satisfied: aiohappyeyeballs>=2.3.0 in c:\\users\\e5752190\\appdata\\roaming\\python\\python312\\site-packages (from aiohttp<4.0.0,>=3.8.6->llama-index-core<0.11.0,>=0.10.18->llama-index==0.10.18) (2.6.1)\n",
            "Requirement already satisfied: aiosignal>=1.1.2 in c:\\users\\e5752190\\appdata\\roaming\\python\\python312\\site-packages (from aiohttp<4.0.0,>=3.8.6->llama-index-core<0.11.0,>=0.10.18->llama-index==0.10.18) (1.3.2)\n",
            "Requirement already satisfied: attrs>=17.3.0 in c:\\users\\e5752190\\appdata\\roaming\\python\\python312\\site-packages (from aiohttp<4.0.0,>=3.8.6->llama-index-core<0.11.0,>=0.10.18->llama-index==0.10.18) (25.3.0)\n",
            "Requirement already satisfied: frozenlist>=1.1.1 in c:\\users\\e5752190\\appdata\\roaming\\python\\python312\\site-packages (from aiohttp<4.0.0,>=3.8.6->llama-index-core<0.11.0,>=0.10.18->llama-index==0.10.18) (1.5.0)\n",
            "Requirement already satisfied: multidict<7.0,>=4.5 in c:\\users\\e5752190\\appdata\\roaming\\python\\python312\\site-packages (from aiohttp<4.0.0,>=3.8.6->llama-index-core<0.11.0,>=0.10.18->llama-index==0.10.18) (6.3.2)\n",
            "Requirement already satisfied: propcache>=0.2.0 in c:\\users\\e5752190\\appdata\\roaming\\python\\python312\\site-packages (from aiohttp<4.0.0,>=3.8.6->llama-index-core<0.11.0,>=0.10.18->llama-index==0.10.18) (0.3.1)\n",
            "Requirement already satisfied: yarl<2.0,>=1.17.0 in c:\\users\\e5752190\\appdata\\roaming\\python\\python312\\site-packages (from aiohttp<4.0.0,>=3.8.6->llama-index-core<0.11.0,>=0.10.18->llama-index==0.10.18) (1.19.0)\n",
            "Requirement already satisfied: llamaindex-py-client<0.2.0,>=0.1.19 in c:\\users\\e5752190\\appdata\\roaming\\python\\python312\\site-packages (from llama-index-indices-managed-llama-cloud<0.2.0,>=0.1.2->llama-index==0.10.18) (0.1.19)\n",
            "Requirement already satisfied: openai>=1.1.0 in c:\\users\\e5752190\\appdata\\roaming\\python\\python312\\site-packages (from llama-index-legacy<0.10.0,>=0.9.48->llama-index==0.10.18) (1.70.0)\n",
            "Requirement already satisfied: transformers<5.0.0,>=4.37.0 in c:\\users\\e5752190\\appdata\\roaming\\python\\python312\\site-packages (from llama-index-llms-openai-like<0.2.0,>=0.1.3->llama-index-llms-groq==0.1.3) (4.51.3)\n",
            "Requirement already satisfied: beautifulsoup4<5.0.0,>=4.12.3 in c:\\users\\e5752190\\appdata\\roaming\\python\\python312\\site-packages (from llama-index-readers-file<0.2.0,>=0.1.4->llama-index==0.10.18) (4.13.4)\n",
            "Requirement already satisfied: pypdf<5.0.0,>=4.0.1 in c:\\users\\e5752190\\appdata\\roaming\\python\\python312\\site-packages (from llama-index-readers-file<0.2.0,>=0.1.4->llama-index==0.10.18) (4.3.1)\n",
            "Requirement already satisfied: striprtf<0.0.27,>=0.0.26 in c:\\users\\e5752190\\appdata\\roaming\\python\\python312\\site-packages (from llama-index-readers-file<0.2.0,>=0.1.4->llama-index==0.10.18) (0.0.26)\n",
            "Requirement already satisfied: soupsieve>1.2 in c:\\users\\e5752190\\appdata\\roaming\\python\\python312\\site-packages (from beautifulsoup4<5.0.0,>=4.12.3->llama-index-readers-file<0.2.0,>=0.1.4->llama-index==0.10.18) (2.7)\n",
            "Requirement already satisfied: llama-parse>=0.4.0 in c:\\users\\e5752190\\appdata\\roaming\\python\\python312\\site-packages (from llama-index-readers-llama-parse<0.2.0,>=0.1.2->llama-index==0.10.18) (0.4.9)\n",
            "Requirement already satisfied: jiter<1,>=0.4.0 in c:\\users\\e5752190\\appdata\\roaming\\python\\python312\\site-packages (from openai>=1.1.0->llama-index-legacy<0.10.0,>=0.9.48->llama-index==0.10.18) (0.9.0)\n",
            "Requirement already satisfied: annotated-types>=0.6.0 in c:\\users\\e5752190\\appdata\\roaming\\python\\python312\\site-packages (from pydantic<3,>=1.9.0->groq==0.4.2) (0.7.0)\n",
            "Requirement already satisfied: pydantic-core==2.33.1 in c:\\users\\e5752190\\appdata\\roaming\\python\\python312\\site-packages (from pydantic<3,>=1.9.0->groq==0.4.2) (2.33.1)\n",
            "Requirement already satisfied: typing-inspection>=0.4.0 in c:\\users\\e5752190\\appdata\\roaming\\python\\python312\\site-packages (from pydantic<3,>=1.9.0->groq==0.4.2) (0.4.0)\n",
            "Requirement already satisfied: torch>=1.11.0 in c:\\users\\e5752190\\appdata\\roaming\\python\\python312\\site-packages (from sentence-transformers<3.0.0,>=2.6.1->llama-index-embeddings-huggingface==0.2.0) (2.7.0)\n",
            "Requirement already satisfied: scikit-learn in c:\\users\\e5752190\\appdata\\roaming\\python\\python312\\site-packages (from sentence-transformers<3.0.0,>=2.6.1->llama-index-embeddings-huggingface==0.2.0) (1.6.1)\n",
            "Requirement already satisfied: scipy in c:\\users\\e5752190\\appdata\\roaming\\python\\python312\\site-packages (from sentence-transformers<3.0.0,>=2.6.1->llama-index-embeddings-huggingface==0.2.0) (1.15.2)\n",
            "Requirement already satisfied: colorama in c:\\users\\e5752190\\appdata\\roaming\\python\\python312\\site-packages (from tqdm<5.0.0,>=4.66.1->llama-index-core<0.11.0,>=0.10.18->llama-index==0.10.18) (0.4.6)\n",
            "Requirement already satisfied: filelock in c:\\users\\e5752190\\appdata\\roaming\\python\\python312\\site-packages (from transformers<5.0.0,>=4.37.0->llama-index-llms-openai-like<0.2.0,>=0.1.3->llama-index-llms-groq==0.1.3) (3.18.0)\n",
            "Requirement already satisfied: packaging>=20.0 in c:\\users\\e5752190\\appdata\\roaming\\python\\python312\\site-packages (from transformers<5.0.0,>=4.37.0->llama-index-llms-openai-like<0.2.0,>=0.1.3->llama-index-llms-groq==0.1.3) (24.2)\n",
            "Requirement already satisfied: regex!=2019.12.17 in c:\\users\\e5752190\\appdata\\roaming\\python\\python312\\site-packages (from transformers<5.0.0,>=4.37.0->llama-index-llms-openai-like<0.2.0,>=0.1.3->llama-index-llms-groq==0.1.3) (2024.11.6)\n",
            "Requirement already satisfied: tokenizers<0.22,>=0.21 in c:\\users\\e5752190\\appdata\\roaming\\python\\python312\\site-packages (from transformers<5.0.0,>=4.37.0->llama-index-llms-openai-like<0.2.0,>=0.1.3->llama-index-llms-groq==0.1.3) (0.21.1)\n",
            "Requirement already satisfied: safetensors>=0.4.3 in c:\\users\\e5752190\\appdata\\roaming\\python\\python312\\site-packages (from transformers<5.0.0,>=4.37.0->llama-index-llms-openai-like<0.2.0,>=0.1.3->llama-index-llms-groq==0.1.3) (0.5.3)\n",
            "Requirement already satisfied: click in c:\\users\\e5752190\\appdata\\roaming\\python\\python312\\site-packages (from nltk!=3.9,>=3.8.1->llama-index-core<0.11.0,>=0.10.18->llama-index==0.10.18) (8.1.8)\n",
            "Requirement already satisfied: joblib in c:\\users\\e5752190\\appdata\\roaming\\python\\python312\\site-packages (from nltk!=3.9,>=3.8.1->llama-index-core<0.11.0,>=0.10.18->llama-index==0.10.18) (1.4.2)\n",
            "Requirement already satisfied: charset-normalizer<4,>=2 in c:\\users\\e5752190\\appdata\\roaming\\python\\python312\\site-packages (from requests>=2.31.0->llama-index-core<0.11.0,>=0.10.18->llama-index==0.10.18) (3.4.1)\n",
            "Requirement already satisfied: urllib3<3,>=1.21.1 in c:\\users\\e5752190\\appdata\\roaming\\python\\python312\\site-packages (from requests>=2.31.0->llama-index-core<0.11.0,>=0.10.18->llama-index==0.10.18) (2.3.0)\n",
            "Requirement already satisfied: greenlet>=1 in c:\\users\\e5752190\\appdata\\roaming\\python\\python312\\site-packages (from SQLAlchemy>=1.4.49->SQLAlchemy[asyncio]>=1.4.49->llama-index-core<0.11.0,>=0.10.18->llama-index==0.10.18) (3.1.1)\n",
            "Requirement already satisfied: sympy>=1.13.3 in c:\\users\\e5752190\\appdata\\roaming\\python\\python312\\site-packages (from torch>=1.11.0->sentence-transformers<3.0.0,>=2.6.1->llama-index-embeddings-huggingface==0.2.0) (1.14.0)\n",
            "Requirement already satisfied: jinja2 in c:\\users\\e5752190\\appdata\\roaming\\python\\python312\\site-packages (from torch>=1.11.0->sentence-transformers<3.0.0,>=2.6.1->llama-index-embeddings-huggingface==0.2.0) (3.1.6)\n",
            "Requirement already satisfied: setuptools in c:\\users\\e5752190\\appdata\\roaming\\python\\python312\\site-packages (from torch>=1.11.0->sentence-transformers<3.0.0,>=2.6.1->llama-index-embeddings-huggingface==0.2.0) (80.0.0)\n",
            "Requirement already satisfied: mpmath<1.4,>=1.1.0 in c:\\users\\e5752190\\appdata\\roaming\\python\\python312\\site-packages (from sympy>=1.13.3->torch>=1.11.0->sentence-transformers<3.0.0,>=2.6.1->llama-index-embeddings-huggingface==0.2.0) (1.3.0)\n",
            "Requirement already satisfied: mypy-extensions>=0.3.0 in c:\\users\\e5752190\\appdata\\roaming\\python\\python312\\site-packages (from typing-inspect>=0.8.0->llama-index-core<0.11.0,>=0.10.18->llama-index==0.10.18) (1.1.0)\n",
            "Requirement already satisfied: marshmallow<4.0.0,>=3.18.0 in c:\\users\\e5752190\\appdata\\roaming\\python\\python312\\site-packages (from dataclasses-json->llama-index-core<0.11.0,>=0.10.18->llama-index==0.10.18) (3.26.1)\n",
            "Requirement already satisfied: MarkupSafe>=2.0 in c:\\users\\e5752190\\appdata\\roaming\\python\\python312\\site-packages (from jinja2->torch>=1.11.0->sentence-transformers<3.0.0,>=2.6.1->llama-index-embeddings-huggingface==0.2.0) (3.0.2)\n",
            "Requirement already satisfied: python-dateutil>=2.8.2 in c:\\users\\e5752190\\appdata\\roaming\\python\\python312\\site-packages (from pandas->llama-index-core<0.11.0,>=0.10.18->llama-index==0.10.18) (2.9.0.post0)\n",
            "Requirement already satisfied: pytz>=2020.1 in c:\\users\\e5752190\\appdata\\roaming\\python\\python312\\site-packages (from pandas->llama-index-core<0.11.0,>=0.10.18->llama-index==0.10.18) (2025.1)\n",
            "Requirement already satisfied: tzdata>=2022.7 in c:\\users\\e5752190\\appdata\\roaming\\python\\python312\\site-packages (from pandas->llama-index-core<0.11.0,>=0.10.18->llama-index==0.10.18) (2025.1)\n",
            "Requirement already satisfied: six>=1.5 in c:\\users\\e5752190\\appdata\\roaming\\python\\python312\\site-packages (from python-dateutil>=2.8.2->pandas->llama-index-core<0.11.0,>=0.10.18->llama-index==0.10.18) (1.17.0)\n",
            "Requirement already satisfied: threadpoolctl>=3.1.0 in c:\\users\\e5752190\\appdata\\roaming\\python\\python312\\site-packages (from scikit-learn->sentence-transformers<3.0.0,>=2.6.1->llama-index-embeddings-huggingface==0.2.0) (3.6.0)\n",
            "Note: you may need to restart the kernel to use updated packages.\n"
          ]
        },
        {
          "name": "stderr",
          "output_type": "stream",
          "text": [
            "\n",
            "[notice] A new release of pip is available: 25.1 -> 25.1.1\n",
            "[notice] To update, run: python.exe -m pip install --upgrade pip\n"
          ]
        }
      ],
      "source": [
        "%pip install llama-index==0.10.18 llama-index-llms-groq==0.1.3 groq==0.4.2 llama-index-embeddings-huggingface==0.2.0"
      ]
    },
    {
      "cell_type": "markdown",
      "metadata": {
        "id": "dO7FZrPBmqvK"
      },
      "source": [
        "### Import Libraries"
      ]
    },
    {
      "cell_type": "code",
      "execution_count": 25,
      "metadata": {
        "colab": {
          "base_uri": "https://localhost:8080/"
        },
        "id": "WDBGD1-EmqvK",
        "outputId": "62310fa6-f7e3-4ae3-deca-c928d0a6ed09"
      },
      "outputs": [],
      "source": [
        "from llama_index.core import (\n",
        "    VectorStoreIndex,\n",
        "    SimpleDirectoryReader,\n",
        "    StorageContext,\n",
        "    ServiceContext,\n",
        "    load_index_from_storage\n",
        ")\n",
        "from llama_index.embeddings.huggingface import HuggingFaceEmbedding\n",
        "from llama_index.core.node_parser import SentenceSplitter\n",
        "from llama_index.llms.groq import Groq\n",
        "import os\n",
        "from dotenv import load_dotenv\n",
        "load_dotenv()\n",
        "from sentence_transformers import SentenceTransformer\n",
        "import warnings\n",
        "warnings.filterwarnings('ignore')"
      ]
    },
    {
      "cell_type": "code",
      "execution_count": 26,
      "metadata": {
        "id": "LvvCfO7qmqvL"
      },
      "outputs": [],
      "source": [
        "# from google.colab import userdata\n",
        "# GROQ_API_KEY = userdata.get('groq')\n",
        "\n",
        "GROQ_API_KEY = os.getenv(\"GROQ_API_KEY\")"
      ]
    },
    {
      "cell_type": "markdown",
      "metadata": {
        "id": "7nsQejq6mqvL"
      },
      "source": [
        "### Data Ingestion"
      ]
    },
    {
      "cell_type": "code",
      "execution_count": 27,
      "metadata": {
        "id": "DLZlByiMmqvL"
      },
      "outputs": [],
      "source": [
        "# data ingestion\n",
        "reader = SimpleDirectoryReader(input_files=[\"./netprobe.log\"])\n",
        "documents = reader.load_data()"
      ]
    },
    {
      "cell_type": "markdown",
      "metadata": {
        "id": "DBfQFnKFzsUe"
      },
      "source": [
        "https://docs.llamaindex.ai/en/stable/module_guides/loading/simpledirectoryreader/"
      ]
    },
    {
      "cell_type": "code",
      "execution_count": 29,
      "metadata": {
        "colab": {
          "base_uri": "https://localhost:8080/"
        },
        "id": "btyQtziemqvL",
        "outputId": "414b8865-9e21-439b-8e77-4de6240abccd"
      },
      "outputs": [
        {
          "name": "stdout",
          "output_type": "stream",
          "text": [
            "1\n"
          ]
        }
      ],
      "source": [
        "# The pdf doc has 86 pages\n",
        "print(len(documents))\n",
        "# print(documents)"
      ]
    },
    {
      "cell_type": "code",
      "execution_count": 30,
      "metadata": {
        "colab": {
          "base_uri": "https://localhost:8080/"
        },
        "id": "ByzUMWVBmqvM",
        "outputId": "80d3d320-3903-48c1-ef5e-719ad58733e8"
      },
      "outputs": [
        {
          "data": {
            "text/plain": [
              "{'file_path': 'netprobe.log',\n",
              " 'file_name': 'netprobe.log',\n",
              " 'file_size': 127729,\n",
              " 'creation_date': '2025-03-17',\n",
              " 'last_modified_date': '2025-03-17'}"
            ]
          },
          "execution_count": 30,
          "metadata": {},
          "output_type": "execute_result"
        }
      ],
      "source": [
        "# The 11 page of the doc\n",
        "documents[0].metadata"
      ]
    },
    {
      "cell_type": "markdown",
      "metadata": {
        "id": "kK3fmpYxmqvM"
      },
      "source": [
        "### Chunking"
      ]
    },
    {
      "cell_type": "code",
      "execution_count": 31,
      "metadata": {
        "colab": {
          "base_uri": "https://localhost:8080/",
          "height": 49,
          "referenced_widgets": [
            "d2a9420610e24657a58754ac36084b4d",
            "0283860501394ce480ef5f6628a3f00d",
            "9dba6a10760e475d9ea3495936ce2217",
            "107a8ddcddf347bd9174bdd314040c69",
            "2fbe9d917b7b46c7aa1a4d0096fe2034",
            "983e200c1e8c4808b405f2a16009c373",
            "5c01867db45b4be2a55823fedb39b48e",
            "751ebe62b40443eca142a39248aa0a26",
            "b989a64761a54f1099a22edf23861e43",
            "8c767cc953984ce59f350f2becf2124b",
            "aa4e4b420d5d495ba42185f112ac421a"
          ]
        },
        "id": "dNksqlkTmqvM",
        "outputId": "c10e4b1d-7206-4b0a-e2c0-6c96674dff6b"
      },
      "outputs": [
        {
          "name": "stderr",
          "output_type": "stream",
          "text": [
            "Parsing nodes: 100%|██████████| 1/1 [00:00<00:00,  8.61it/s]\n"
          ]
        }
      ],
      "source": [
        "text_splitter = SentenceSplitter(chunk_size=1024, chunk_overlap=200)\n",
        "nodes = text_splitter.get_nodes_from_documents(documents, show_progress=True)"
      ]
    },
    {
      "cell_type": "markdown",
      "metadata": {
        "id": "lAqsA7ROzxQD"
      },
      "source": [
        "https://docs.llamaindex.ai/en/stable/module_guides/loading/node_parsers/modules/"
      ]
    },
    {
      "cell_type": "code",
      "execution_count": 32,
      "metadata": {
        "colab": {
          "base_uri": "https://localhost:8080/"
        },
        "id": "m8wxCA8bmqvM",
        "outputId": "b1bb626f-0a82-4106-c640-81432dec248f"
      },
      "outputs": [
        {
          "data": {
            "text/plain": [
              "56"
            ]
          },
          "execution_count": 32,
          "metadata": {},
          "output_type": "execute_result"
        }
      ],
      "source": [
        "len(nodes)"
      ]
    },
    {
      "cell_type": "code",
      "execution_count": 33,
      "metadata": {
        "colab": {
          "base_uri": "https://localhost:8080/"
        },
        "id": "vwdf4coNmqvN",
        "outputId": "b6e39826-12e8-471c-9e00-a4ec6d51c9a9"
      },
      "outputs": [
        {
          "data": {
            "text/plain": [
              "{'file_path': 'netprobe.log',\n",
              " 'file_name': 'netprobe.log',\n",
              " 'file_size': 127729,\n",
              " 'creation_date': '2025-03-17',\n",
              " 'last_modified_date': '2025-03-17'}"
            ]
          },
          "execution_count": 33,
          "metadata": {},
          "output_type": "execute_result"
        }
      ],
      "source": [
        "nodes[0].metadata"
      ]
    },
    {
      "cell_type": "markdown",
      "metadata": {
        "id": "gclg3Gz0z3Aj"
      },
      "source": [
        "https://chunkviz.up.railway.app/"
      ]
    },
    {
      "cell_type": "markdown",
      "metadata": {
        "id": "gtS3uKzemqvN"
      },
      "source": [
        "### Embedding Model"
      ]
    },
    {
      "cell_type": "code",
      "execution_count": 40,
      "metadata": {
        "id": "jEwRVbmumqvN"
      },
      "outputs": [
        {
          "name": "stderr",
          "output_type": "stream",
          "text": [
            "No sentence-transformers model found with name sentence-transformers/all-MiniLM-L6-v2. Creating a new one with MEAN pooling.\n"
          ]
        },
        {
          "ename": "ValueError",
          "evalue": "Unrecognized model in sentence-transformers/all-MiniLM-L6-v2. Should have a `model_type` key in its config.json, or contain one of the following strings in its name: albert, align, altclip, aria, aria_text, audio-spectrogram-transformer, autoformer, aya_vision, bamba, bark, bart, beit, bert, bert-generation, big_bird, bigbird_pegasus, biogpt, bit, blenderbot, blenderbot-small, blip, blip-2, bloom, bridgetower, bros, camembert, canine, chameleon, chinese_clip, chinese_clip_vision_model, clap, clip, clip_text_model, clip_vision_model, clipseg, clvp, code_llama, codegen, cohere, cohere2, colpali, conditional_detr, convbert, convnext, convnextv2, cpmant, ctrl, cvt, dab-detr, dac, data2vec-audio, data2vec-text, data2vec-vision, dbrx, deberta, deberta-v2, decision_transformer, deepseek_v3, deformable_detr, deit, depth_anything, depth_pro, deta, detr, diffllama, dinat, dinov2, dinov2_with_registers, distilbert, donut-swin, dpr, dpt, efficientformer, efficientnet, electra, emu3, encodec, encoder-decoder, ernie, ernie_m, esm, falcon, falcon_mamba, fastspeech2_conformer, flaubert, flava, fnet, focalnet, fsmt, funnel, fuyu, gemma, gemma2, gemma3, gemma3_text, git, glm, glm4, glpn, got_ocr2, gpt-sw3, gpt2, gpt_bigcode, gpt_neo, gpt_neox, gpt_neox_japanese, gptj, gptsan-japanese, granite, granitemoe, granitemoeshared, granitevision, graphormer, grounding-dino, groupvit, helium, hiera, hubert, ibert, idefics, idefics2, idefics3, idefics3_vision, ijepa, imagegpt, informer, instructblip, instructblipvideo, jamba, jetmoe, jukebox, kosmos-2, layoutlm, layoutlmv2, layoutlmv3, led, levit, lilt, llama, llama4, llama4_text, llava, llava_next, llava_next_video, llava_onevision, longformer, longt5, luke, lxmert, m2m_100, mamba, mamba2, marian, markuplm, mask2former, maskformer, maskformer-swin, mbart, mctct, mega, megatron-bert, mgp-str, mimi, mistral, mistral3, mixtral, mllama, mobilebert, mobilenet_v1, mobilenet_v2, mobilevit, mobilevitv2, modernbert, moonshine, moshi, mpnet, mpt, mra, mt5, musicgen, musicgen_melody, mvp, nat, nemotron, nezha, nllb-moe, nougat, nystromformer, olmo, olmo2, olmoe, omdet-turbo, oneformer, open-llama, openai-gpt, opt, owlv2, owlvit, paligemma, patchtsmixer, patchtst, pegasus, pegasus_x, perceiver, persimmon, phi, phi3, phi4_multimodal, phimoe, pix2struct, pixtral, plbart, poolformer, pop2piano, prompt_depth_anything, prophetnet, pvt, pvt_v2, qdqbert, qwen2, qwen2_5_vl, qwen2_audio, qwen2_audio_encoder, qwen2_moe, qwen2_vl, qwen3, qwen3_moe, rag, realm, recurrent_gemma, reformer, regnet, rembert, resnet, retribert, roberta, roberta-prelayernorm, roc_bert, roformer, rt_detr, rt_detr_resnet, rt_detr_v2, rwkv, sam, sam_vision_model, seamless_m4t, seamless_m4t_v2, segformer, seggpt, sew, sew-d, shieldgemma2, siglip, siglip2, siglip_vision_model, smolvlm, smolvlm_vision, speech-encoder-decoder, speech_to_text, speech_to_text_2, speecht5, splinter, squeezebert, stablelm, starcoder2, superglue, superpoint, swiftformer, swin, swin2sr, swinv2, switch_transformers, t5, table-transformer, tapas, textnet, time_series_transformer, timesformer, timm_backbone, timm_wrapper, trajectory_transformer, transfo-xl, trocr, tvlt, tvp, udop, umt5, unispeech, unispeech-sat, univnet, upernet, van, video_llava, videomae, vilt, vipllava, vision-encoder-decoder, vision-text-dual-encoder, visual_bert, vit, vit_hybrid, vit_mae, vit_msn, vitdet, vitmatte, vitpose, vitpose_backbone, vits, vivit, wav2vec2, wav2vec2-bert, wav2vec2-conformer, wavlm, whisper, xclip, xglm, xlm, xlm-prophetnet, xlm-roberta, xlm-roberta-xl, xlnet, xmod, yolos, yoso, zamba, zamba2, zoedepth",
          "output_type": "error",
          "traceback": [
            "\u001b[31m---------------------------------------------------------------------------\u001b[39m",
            "\u001b[31mValueError\u001b[39m                                Traceback (most recent call last)",
            "\u001b[36mCell\u001b[39m\u001b[36m \u001b[39m\u001b[32mIn[40]\u001b[39m\u001b[32m, line 1\u001b[39m\n\u001b[32m----> \u001b[39m\u001b[32m1\u001b[39m model = \u001b[43mSentenceTransformer\u001b[49m\u001b[43m(\u001b[49m\u001b[33;43m'\u001b[39;49m\u001b[33;43mall-MiniLM-L6-v2\u001b[39;49m\u001b[33;43m'\u001b[39;49m\u001b[43m)\u001b[49m\n\u001b[32m      2\u001b[39m \u001b[38;5;28mprint\u001b[39m(model)\n",
            "\u001b[36mFile \u001b[39m\u001b[32m~\\AppData\\Roaming\\Python\\Python312\\site-packages\\sentence_transformers\\SentenceTransformer.py:205\u001b[39m, in \u001b[36mSentenceTransformer.__init__\u001b[39m\u001b[34m(self, model_name_or_path, modules, device, prompts, default_prompt_name, cache_folder, trust_remote_code, revision, token, use_auth_token, truncate_dim)\u001b[39m\n\u001b[32m    197\u001b[39m         modules = \u001b[38;5;28mself\u001b[39m._load_sbert_model(\n\u001b[32m    198\u001b[39m             model_name_or_path,\n\u001b[32m    199\u001b[39m             token=token,\n\u001b[32m   (...)\u001b[39m\u001b[32m    202\u001b[39m             trust_remote_code=trust_remote_code,\n\u001b[32m    203\u001b[39m         )\n\u001b[32m    204\u001b[39m     \u001b[38;5;28;01melse\u001b[39;00m:\n\u001b[32m--> \u001b[39m\u001b[32m205\u001b[39m         modules = \u001b[38;5;28;43mself\u001b[39;49m\u001b[43m.\u001b[49m\u001b[43m_load_auto_model\u001b[49m\u001b[43m(\u001b[49m\n\u001b[32m    206\u001b[39m \u001b[43m            \u001b[49m\u001b[43mmodel_name_or_path\u001b[49m\u001b[43m,\u001b[49m\n\u001b[32m    207\u001b[39m \u001b[43m            \u001b[49m\u001b[43mtoken\u001b[49m\u001b[43m=\u001b[49m\u001b[43mtoken\u001b[49m\u001b[43m,\u001b[49m\n\u001b[32m    208\u001b[39m \u001b[43m            \u001b[49m\u001b[43mcache_folder\u001b[49m\u001b[43m=\u001b[49m\u001b[43mcache_folder\u001b[49m\u001b[43m,\u001b[49m\n\u001b[32m    209\u001b[39m \u001b[43m            \u001b[49m\u001b[43mrevision\u001b[49m\u001b[43m=\u001b[49m\u001b[43mrevision\u001b[49m\u001b[43m,\u001b[49m\n\u001b[32m    210\u001b[39m \u001b[43m            \u001b[49m\u001b[43mtrust_remote_code\u001b[49m\u001b[43m=\u001b[49m\u001b[43mtrust_remote_code\u001b[49m\u001b[43m,\u001b[49m\n\u001b[32m    211\u001b[39m \u001b[43m        \u001b[49m\u001b[43m)\u001b[49m\n\u001b[32m    213\u001b[39m \u001b[38;5;28;01mif\u001b[39;00m modules \u001b[38;5;129;01mis\u001b[39;00m \u001b[38;5;129;01mnot\u001b[39;00m \u001b[38;5;28;01mNone\u001b[39;00m \u001b[38;5;129;01mand\u001b[39;00m \u001b[38;5;129;01mnot\u001b[39;00m \u001b[38;5;28misinstance\u001b[39m(modules, OrderedDict):\n\u001b[32m    214\u001b[39m     modules = OrderedDict([(\u001b[38;5;28mstr\u001b[39m(idx), module) \u001b[38;5;28;01mfor\u001b[39;00m idx, module \u001b[38;5;129;01min\u001b[39;00m \u001b[38;5;28menumerate\u001b[39m(modules)])\n",
            "\u001b[36mFile \u001b[39m\u001b[32m~\\AppData\\Roaming\\Python\\Python312\\site-packages\\sentence_transformers\\SentenceTransformer.py:1197\u001b[39m, in \u001b[36mSentenceTransformer._load_auto_model\u001b[39m\u001b[34m(self, model_name_or_path, token, cache_folder, revision, trust_remote_code)\u001b[39m\n\u001b[32m   1189\u001b[39m \u001b[38;5;250m\u001b[39m\u001b[33;03m\"\"\"\u001b[39;00m\n\u001b[32m   1190\u001b[39m \u001b[33;03mCreates a simple Transformer + Mean Pooling model and returns the modules\u001b[39;00m\n\u001b[32m   1191\u001b[39m \u001b[33;03m\"\"\"\u001b[39;00m\n\u001b[32m   1192\u001b[39m logger.warning(\n\u001b[32m   1193\u001b[39m     \u001b[33m\"\u001b[39m\u001b[33mNo sentence-transformers model found with name \u001b[39m\u001b[38;5;132;01m{}\u001b[39;00m\u001b[33m. Creating a new one with MEAN pooling.\u001b[39m\u001b[33m\"\u001b[39m.format(\n\u001b[32m   1194\u001b[39m         model_name_or_path\n\u001b[32m   1195\u001b[39m     )\n\u001b[32m   1196\u001b[39m )\n\u001b[32m-> \u001b[39m\u001b[32m1197\u001b[39m transformer_model = \u001b[43mTransformer\u001b[49m\u001b[43m(\u001b[49m\n\u001b[32m   1198\u001b[39m \u001b[43m    \u001b[49m\u001b[43mmodel_name_or_path\u001b[49m\u001b[43m,\u001b[49m\n\u001b[32m   1199\u001b[39m \u001b[43m    \u001b[49m\u001b[43mcache_dir\u001b[49m\u001b[43m=\u001b[49m\u001b[43mcache_folder\u001b[49m\u001b[43m,\u001b[49m\n\u001b[32m   1200\u001b[39m \u001b[43m    \u001b[49m\u001b[43mmodel_args\u001b[49m\u001b[43m=\u001b[49m\u001b[43m{\u001b[49m\u001b[33;43m\"\u001b[39;49m\u001b[33;43mtoken\u001b[39;49m\u001b[33;43m\"\u001b[39;49m\u001b[43m:\u001b[49m\u001b[43m \u001b[49m\u001b[43mtoken\u001b[49m\u001b[43m,\u001b[49m\u001b[43m \u001b[49m\u001b[33;43m\"\u001b[39;49m\u001b[33;43mtrust_remote_code\u001b[39;49m\u001b[33;43m\"\u001b[39;49m\u001b[43m:\u001b[49m\u001b[43m \u001b[49m\u001b[43mtrust_remote_code\u001b[49m\u001b[43m,\u001b[49m\u001b[43m \u001b[49m\u001b[33;43m\"\u001b[39;49m\u001b[33;43mrevision\u001b[39;49m\u001b[33;43m\"\u001b[39;49m\u001b[43m:\u001b[49m\u001b[43m \u001b[49m\u001b[43mrevision\u001b[49m\u001b[43m}\u001b[49m\u001b[43m,\u001b[49m\n\u001b[32m   1201\u001b[39m \u001b[43m    \u001b[49m\u001b[43mtokenizer_args\u001b[49m\u001b[43m=\u001b[49m\u001b[43m{\u001b[49m\u001b[33;43m\"\u001b[39;49m\u001b[33;43mtoken\u001b[39;49m\u001b[33;43m\"\u001b[39;49m\u001b[43m:\u001b[49m\u001b[43m \u001b[49m\u001b[43mtoken\u001b[49m\u001b[43m,\u001b[49m\u001b[43m \u001b[49m\u001b[33;43m\"\u001b[39;49m\u001b[33;43mtrust_remote_code\u001b[39;49m\u001b[33;43m\"\u001b[39;49m\u001b[43m:\u001b[49m\u001b[43m \u001b[49m\u001b[43mtrust_remote_code\u001b[49m\u001b[43m,\u001b[49m\u001b[43m \u001b[49m\u001b[33;43m\"\u001b[39;49m\u001b[33;43mrevision\u001b[39;49m\u001b[33;43m\"\u001b[39;49m\u001b[43m:\u001b[49m\u001b[43m \u001b[49m\u001b[43mrevision\u001b[49m\u001b[43m}\u001b[49m\u001b[43m,\u001b[49m\n\u001b[32m   1202\u001b[39m \u001b[43m\u001b[49m\u001b[43m)\u001b[49m\n\u001b[32m   1203\u001b[39m pooling_model = Pooling(transformer_model.get_word_embedding_dimension(), \u001b[33m\"\u001b[39m\u001b[33mmean\u001b[39m\u001b[33m\"\u001b[39m)\n\u001b[32m   1204\u001b[39m \u001b[38;5;28;01mreturn\u001b[39;00m [transformer_model, pooling_model]\n",
            "\u001b[36mFile \u001b[39m\u001b[32m~\\AppData\\Roaming\\Python\\Python312\\site-packages\\sentence_transformers\\models\\Transformer.py:35\u001b[39m, in \u001b[36mTransformer.__init__\u001b[39m\u001b[34m(self, model_name_or_path, max_seq_length, model_args, cache_dir, tokenizer_args, do_lower_case, tokenizer_name_or_path)\u001b[39m\n\u001b[32m     32\u001b[39m \u001b[38;5;28mself\u001b[39m.config_keys = [\u001b[33m\"\u001b[39m\u001b[33mmax_seq_length\u001b[39m\u001b[33m\"\u001b[39m, \u001b[33m\"\u001b[39m\u001b[33mdo_lower_case\u001b[39m\u001b[33m\"\u001b[39m]\n\u001b[32m     33\u001b[39m \u001b[38;5;28mself\u001b[39m.do_lower_case = do_lower_case\n\u001b[32m---> \u001b[39m\u001b[32m35\u001b[39m config = \u001b[43mAutoConfig\u001b[49m\u001b[43m.\u001b[49m\u001b[43mfrom_pretrained\u001b[49m\u001b[43m(\u001b[49m\u001b[43mmodel_name_or_path\u001b[49m\u001b[43m,\u001b[49m\u001b[43m \u001b[49m\u001b[43m*\u001b[49m\u001b[43m*\u001b[49m\u001b[43mmodel_args\u001b[49m\u001b[43m,\u001b[49m\u001b[43m \u001b[49m\u001b[43mcache_dir\u001b[49m\u001b[43m=\u001b[49m\u001b[43mcache_dir\u001b[49m\u001b[43m)\u001b[49m\n\u001b[32m     36\u001b[39m \u001b[38;5;28mself\u001b[39m._load_model(model_name_or_path, config, cache_dir, **model_args)\n\u001b[32m     38\u001b[39m \u001b[38;5;28mself\u001b[39m.tokenizer = AutoTokenizer.from_pretrained(\n\u001b[32m     39\u001b[39m     tokenizer_name_or_path \u001b[38;5;28;01mif\u001b[39;00m tokenizer_name_or_path \u001b[38;5;129;01mis\u001b[39;00m \u001b[38;5;129;01mnot\u001b[39;00m \u001b[38;5;28;01mNone\u001b[39;00m \u001b[38;5;28;01melse\u001b[39;00m model_name_or_path,\n\u001b[32m     40\u001b[39m     cache_dir=cache_dir,\n\u001b[32m     41\u001b[39m     **tokenizer_args,\n\u001b[32m     42\u001b[39m )\n",
            "\u001b[36mFile \u001b[39m\u001b[32m~\\AppData\\Roaming\\Python\\Python312\\site-packages\\transformers\\models\\auto\\configuration_auto.py:1151\u001b[39m, in \u001b[36mAutoConfig.from_pretrained\u001b[39m\u001b[34m(cls, pretrained_model_name_or_path, **kwargs)\u001b[39m\n\u001b[32m   1148\u001b[39m         \u001b[38;5;28;01mif\u001b[39;00m pattern \u001b[38;5;129;01min\u001b[39;00m \u001b[38;5;28mstr\u001b[39m(pretrained_model_name_or_path):\n\u001b[32m   1149\u001b[39m             \u001b[38;5;28;01mreturn\u001b[39;00m CONFIG_MAPPING[pattern].from_dict(config_dict, **unused_kwargs)\n\u001b[32m-> \u001b[39m\u001b[32m1151\u001b[39m \u001b[38;5;28;01mraise\u001b[39;00m \u001b[38;5;167;01mValueError\u001b[39;00m(\n\u001b[32m   1152\u001b[39m     \u001b[33mf\u001b[39m\u001b[33m\"\u001b[39m\u001b[33mUnrecognized model in \u001b[39m\u001b[38;5;132;01m{\u001b[39;00mpretrained_model_name_or_path\u001b[38;5;132;01m}\u001b[39;00m\u001b[33m. \u001b[39m\u001b[33m\"\u001b[39m\n\u001b[32m   1153\u001b[39m     \u001b[33mf\u001b[39m\u001b[33m\"\u001b[39m\u001b[33mShould have a `model_type` key in its \u001b[39m\u001b[38;5;132;01m{\u001b[39;00mCONFIG_NAME\u001b[38;5;132;01m}\u001b[39;00m\u001b[33m, or contain one of the following strings \u001b[39m\u001b[33m\"\u001b[39m\n\u001b[32m   1154\u001b[39m     \u001b[33mf\u001b[39m\u001b[33m\"\u001b[39m\u001b[33min its name: \u001b[39m\u001b[38;5;132;01m{\u001b[39;00m\u001b[33m'\u001b[39m\u001b[33m, \u001b[39m\u001b[33m'\u001b[39m.join(CONFIG_MAPPING.keys())\u001b[38;5;132;01m}\u001b[39;00m\u001b[33m\"\u001b[39m\n\u001b[32m   1155\u001b[39m )\n",
            "\u001b[31mValueError\u001b[39m: Unrecognized model in sentence-transformers/all-MiniLM-L6-v2. Should have a `model_type` key in its config.json, or contain one of the following strings in its name: albert, align, altclip, aria, aria_text, audio-spectrogram-transformer, autoformer, aya_vision, bamba, bark, bart, beit, bert, bert-generation, big_bird, bigbird_pegasus, biogpt, bit, blenderbot, blenderbot-small, blip, blip-2, bloom, bridgetower, bros, camembert, canine, chameleon, chinese_clip, chinese_clip_vision_model, clap, clip, clip_text_model, clip_vision_model, clipseg, clvp, code_llama, codegen, cohere, cohere2, colpali, conditional_detr, convbert, convnext, convnextv2, cpmant, ctrl, cvt, dab-detr, dac, data2vec-audio, data2vec-text, data2vec-vision, dbrx, deberta, deberta-v2, decision_transformer, deepseek_v3, deformable_detr, deit, depth_anything, depth_pro, deta, detr, diffllama, dinat, dinov2, dinov2_with_registers, distilbert, donut-swin, dpr, dpt, efficientformer, efficientnet, electra, emu3, encodec, encoder-decoder, ernie, ernie_m, esm, falcon, falcon_mamba, fastspeech2_conformer, flaubert, flava, fnet, focalnet, fsmt, funnel, fuyu, gemma, gemma2, gemma3, gemma3_text, git, glm, glm4, glpn, got_ocr2, gpt-sw3, gpt2, gpt_bigcode, gpt_neo, gpt_neox, gpt_neox_japanese, gptj, gptsan-japanese, granite, granitemoe, granitemoeshared, granitevision, graphormer, grounding-dino, groupvit, helium, hiera, hubert, ibert, idefics, idefics2, idefics3, idefics3_vision, ijepa, imagegpt, informer, instructblip, instructblipvideo, jamba, jetmoe, jukebox, kosmos-2, layoutlm, layoutlmv2, layoutlmv3, led, levit, lilt, llama, llama4, llama4_text, llava, llava_next, llava_next_video, llava_onevision, longformer, longt5, luke, lxmert, m2m_100, mamba, mamba2, marian, markuplm, mask2former, maskformer, maskformer-swin, mbart, mctct, mega, megatron-bert, mgp-str, mimi, mistral, mistral3, mixtral, mllama, mobilebert, mobilenet_v1, mobilenet_v2, mobilevit, mobilevitv2, modernbert, moonshine, moshi, mpnet, mpt, mra, mt5, musicgen, musicgen_melody, mvp, nat, nemotron, nezha, nllb-moe, nougat, nystromformer, olmo, olmo2, olmoe, omdet-turbo, oneformer, open-llama, openai-gpt, opt, owlv2, owlvit, paligemma, patchtsmixer, patchtst, pegasus, pegasus_x, perceiver, persimmon, phi, phi3, phi4_multimodal, phimoe, pix2struct, pixtral, plbart, poolformer, pop2piano, prompt_depth_anything, prophetnet, pvt, pvt_v2, qdqbert, qwen2, qwen2_5_vl, qwen2_audio, qwen2_audio_encoder, qwen2_moe, qwen2_vl, qwen3, qwen3_moe, rag, realm, recurrent_gemma, reformer, regnet, rembert, resnet, retribert, roberta, roberta-prelayernorm, roc_bert, roformer, rt_detr, rt_detr_resnet, rt_detr_v2, rwkv, sam, sam_vision_model, seamless_m4t, seamless_m4t_v2, segformer, seggpt, sew, sew-d, shieldgemma2, siglip, siglip2, siglip_vision_model, smolvlm, smolvlm_vision, speech-encoder-decoder, speech_to_text, speech_to_text_2, speecht5, splinter, squeezebert, stablelm, starcoder2, superglue, superpoint, swiftformer, swin, swin2sr, swinv2, switch_transformers, t5, table-transformer, tapas, textnet, time_series_transformer, timesformer, timm_backbone, timm_wrapper, trajectory_transformer, transfo-xl, trocr, tvlt, tvp, udop, umt5, unispeech, unispeech-sat, univnet, upernet, van, video_llava, videomae, vilt, vipllava, vision-encoder-decoder, vision-text-dual-encoder, visual_bert, vit, vit_hybrid, vit_mae, vit_msn, vitdet, vitmatte, vitpose, vitpose_backbone, vits, vivit, wav2vec2, wav2vec2-bert, wav2vec2-conformer, wavlm, whisper, xclip, xglm, xlm, xlm-prophetnet, xlm-roberta, xlm-roberta-xl, xlnet, xmod, yolos, yoso, zamba, zamba2, zoedepth"
          ]
        }
      ],
      "source": [
        "\n",
        "model = SentenceTransformer('all-MiniLM-L6-v2')\n",
        "print(model)"
      ]
    },
    {
      "cell_type": "markdown",
      "metadata": {
        "id": "XquiPDSxz5dS"
      },
      "source": [
        "https://huggingface.co/sentence-transformers/all-MiniLM-L6-v2"
      ]
    },
    {
      "cell_type": "markdown",
      "metadata": {
        "id": "ZYsnminyz80I"
      },
      "source": [
        "https://huggingface.co/spaces/mteb/leaderboard"
      ]
    },
    {
      "cell_type": "markdown",
      "metadata": {
        "id": "WT-XDReFmqvN"
      },
      "source": [
        "### Define LLM Model"
      ]
    },
    {
      "cell_type": "code",
      "execution_count": 12,
      "metadata": {
        "id": "bNR7HSSvmqvN"
      },
      "outputs": [],
      "source": [
        "llm = Groq(model=\"llama3-70b-8192\", api_key=GROQ_API_KEY)"
      ]
    },
    {
      "cell_type": "markdown",
      "metadata": {
        "id": "FpPv-5ZWz_CY"
      },
      "source": [
        "https://console.groq.com/docs/models"
      ]
    },
    {
      "cell_type": "markdown",
      "metadata": {
        "id": "bml4yTGW0CVY"
      },
      "source": [
        "https://console.groq.com/keys"
      ]
    },
    {
      "cell_type": "markdown",
      "metadata": {
        "id": "XpccqQs6mqvN"
      },
      "source": [
        "### Configure Service Context"
      ]
    },
    {
      "cell_type": "code",
      "execution_count": 13,
      "metadata": {
        "id": "sikMtIffmqvN"
      },
      "outputs": [],
      "source": [
        "service_context = ServiceContext.from_defaults(embed_model=embed_model, llm=llm)"
      ]
    },
    {
      "cell_type": "markdown",
      "metadata": {
        "id": "lqFfhVIbmqvN"
      },
      "source": [
        "### Create Vector Store Index"
      ]
    },
    {
      "cell_type": "code",
      "execution_count": 14,
      "metadata": {
        "colab": {
          "base_uri": "https://localhost:8080/",
          "height": 81,
          "referenced_widgets": [
            "32850865bfe44288a5cd2e4bf54353d9",
            "81284073badb47549d0c176fdc9fbdd9",
            "87716697185c45ca8ea2db5b9e91193e",
            "f74c571d13664824b012c9c34e3583f3",
            "7879985f1ff44866888b8698aa849ec8",
            "26ca748035eb4a748d168e60012e5fc4",
            "277aa06a871248288fa72a68368d4af0",
            "f1e1d337432942ad81537c848d82575b",
            "15ffe87035e64582bbe14ea56e9f8b4a",
            "e652e92b745a48d388cd73e704a1d6d5",
            "c4d1238d5b944f46906b61254c1c60d1",
            "d8d476444d944e419608ba093899a51c",
            "18469498fa07402c877fb7f0b0ca36e2",
            "577bbb7b478f46a58bee0be06af80c9c",
            "49ffefa159bf41609cbb5302033ee634",
            "933904cd22314aea8a405761c759c9b0",
            "dbf830efb2f24be0ab16d36c13dc744a",
            "57c2eb5550b04708b204da51df242416",
            "7ca384dfab7c49318b8127cf2cb9caa3",
            "7be6820c927c4d95815b64b2eec34aa9",
            "65529234483b4967afd53043014d51a8",
            "c4ccf291506743e4ab3797403da534e0"
          ]
        },
        "id": "UxM18VGVmqvO",
        "outputId": "07c091cd-4be4-468a-8211-79d8beed7889"
      },
      "outputs": [
        {
          "name": "stderr",
          "output_type": "stream",
          "text": [
            "Parsing nodes: 100%|██████████| 86/86 [00:00<00:00, 1881.55it/s]\n",
            "Generating embeddings: 100%|██████████| 86/86 [00:02<00:00, 39.63it/s]\n"
          ]
        }
      ],
      "source": [
        "vector_index = VectorStoreIndex.from_documents(documents, show_progress=True, service_context=service_context, node_parser=nodes)"
      ]
    },
    {
      "cell_type": "markdown",
      "metadata": {
        "id": "Lmi_VOVo0Faf"
      },
      "source": [
        "https://docs.llamaindex.ai/en/stable/module_guides/indexing/vector_store_index/"
      ]
    },
    {
      "cell_type": "markdown",
      "metadata": {
        "id": "irKTccwAmqvO"
      },
      "source": [
        "#### Persist/Save Index"
      ]
    },
    {
      "cell_type": "code",
      "execution_count": 15,
      "metadata": {
        "id": "4bGXXhWFmqvO"
      },
      "outputs": [],
      "source": [
        "vector_index.storage_context.persist(persist_dir=\"./storage_mini\")"
      ]
    },
    {
      "cell_type": "markdown",
      "metadata": {
        "id": "-bjvO0j2mqvO"
      },
      "source": [
        "#### Define Storage Context"
      ]
    },
    {
      "cell_type": "code",
      "execution_count": 16,
      "metadata": {
        "id": "F4-ZEvtBmqvO"
      },
      "outputs": [],
      "source": [
        "storage_context = StorageContext.from_defaults(persist_dir=\"./storage_mini\")"
      ]
    },
    {
      "cell_type": "markdown",
      "metadata": {
        "id": "A_Fw_6vP3FMu"
      },
      "source": [
        "https://docs.llamaindex.ai/en/stable/api_reference/storage/storage_context/"
      ]
    },
    {
      "cell_type": "markdown",
      "metadata": {
        "id": "cncnv6tcmqvO"
      },
      "source": [
        "#### Load Index"
      ]
    },
    {
      "cell_type": "code",
      "execution_count": 17,
      "metadata": {
        "id": "mxEw8WU2mqvO"
      },
      "outputs": [],
      "source": [
        "index = load_index_from_storage(storage_context, service_context=service_context)"
      ]
    },
    {
      "cell_type": "markdown",
      "metadata": {
        "id": "7CtxxbIqmqvO"
      },
      "source": [
        "### Define Query Engine"
      ]
    },
    {
      "cell_type": "code",
      "execution_count": 18,
      "metadata": {
        "id": "z_SHXU4QmqvO"
      },
      "outputs": [],
      "source": [
        "query_engine = index.as_query_engine(service_context=service_context)"
      ]
    },
    {
      "cell_type": "markdown",
      "metadata": {
        "id": "eFfxPClk2BQI"
      },
      "source": [
        "https://docs.llamaindex.ai/en/stable/module_guides/deploying/query_engine/"
      ]
    },
    {
      "cell_type": "markdown",
      "metadata": {
        "id": "h8li26pcmqvP"
      },
      "source": [
        "#### Feed in user query"
      ]
    },
    {
      "cell_type": "markdown",
      "metadata": {
        "id": "-7PJIepk3Nnr"
      },
      "source": [
        "https://docs.llamaindex.ai/en/stable/examples/prompts/prompts_rag/#viewingcustomizing-prompts"
      ]
    },
    {
      "cell_type": "markdown",
      "metadata": {},
      "source": [
        "## Example-1: Query returning result from the queried document"
      ]
    },
    {
      "cell_type": "code",
      "execution_count": 26,
      "metadata": {},
      "outputs": [],
      "source": [
        "query = \"Explain bonds, debts, and healthy lifestyle (General knowledge) and provide the page reference(s) in a dictionary format inside a list. provide also a description field as a concise summary of about 100 words for each\"\n",
        "resp = query_engine.query(query)"
      ]
    },
    {
      "cell_type": "code",
      "execution_count": 27,
      "metadata": {},
      "outputs": [
        {
          "name": "stdout",
          "output_type": "stream",
          "text": [
            "Here is the answer:\n",
            "\n",
            "[\n",
            "    {\n",
            "        \"term\": \"Bonds\",\n",
            "        \"description\": \"Bonds are long-term liabilities that a company or institution issues to raise capital. They are essentially debt securities that represent a loan made by an investor to the borrower. In the context of a balance sheet, bonds are listed as long-term liabilities, meaning they are due over 12 months.\",\n",
            "        \"page_reference\": [4]\n",
            "    },\n",
            "    {\n",
            "        \"term\": \"Debts\",\n",
            "        \"description\": \"Debts refer to the amount of money owed by an individual or organization to another party. In the context of a balance sheet, debts are listed as liabilities, which can be either short-term (due within 12 months) or long-term (due over 12 months).\",\n",
            "        \"page_reference\": [4]\n",
            "    },\n",
            "    {\n",
            "        \"term\": \"Healthy Lifestyle\",\n",
            "        \"description\": \"Not applicable in this context. The provided context information only discusses finance and accounting concepts, and does not mention healthy lifestyle.\",\n",
            "        \"page_reference\": []\n",
            "    }\n",
            "]\n"
          ]
        }
      ],
      "source": [
        "print(resp.response)"
      ]
    },
    {
      "cell_type": "markdown",
      "metadata": {},
      "source": [
        "## Example-2: Query returning result from the LLM general knowledge as it does not exist in the doc"
      ]
    },
    {
      "cell_type": "code",
      "execution_count": 28,
      "metadata": {
        "id": "LBeg4Vj2mqvP"
      },
      "outputs": [],
      "source": [
        "query = \"Explain buyside and sellside and provide the page reference in a dictionary format. provide also a description field as a concise summary of about 100 words\"\n",
        "resp = query_engine.query(query)"
      ]
    },
    {
      "cell_type": "code",
      "execution_count": 22,
      "metadata": {
        "colab": {
          "base_uri": "https://localhost:8080/"
        },
        "id": "F78UWJksmqvP",
        "outputId": "b4fedc94-75ea-4d03-edde-53e40c8bf2cc"
      },
      "outputs": [
        {
          "name": "stdout",
          "output_type": "stream",
          "text": [
            "Since the provided context does not mention \"buyside\" and \"sellside\", it is not possible to explain these terms or provide a page reference based on the given context.\n",
            "\n",
            "Here is an empty dictionary as the answer:\n",
            "\n",
            "{\n",
            "\"description\": \"No information available in the provided context.\",\n",
            "\"page_reference\": None\n",
            "}\n",
            "\n",
            "Please note that the context only discusses basic finance concepts, such as the balance sheet, assets, liabilities, and equity, but does not mention \"buyside\" and \"sellside\".\n"
          ]
        }
      ],
      "source": [
        "print(resp.response)"
      ]
    },
    {
      "cell_type": "markdown",
      "metadata": {
        "id": "_oBNoA2K08Ts"
      },
      "source": [
        "https://itsjb13.medium.com/building-a-rag-chatbot-using-llamaindex-groq-with-llama3-chainlit-b1709f770f55"
      ]
    },
    {
      "cell_type": "markdown",
      "metadata": {
        "id": "vFuxWAWq5DIn"
      },
      "source": [
        "https://docs.llamaindex.ai/en/stable/optimizing/production_rag/"
      ]
    },
    {
      "cell_type": "code",
      "execution_count": 29,
      "metadata": {},
      "outputs": [],
      "source": [
        "from langchain_groq import ChatGroq"
      ]
    },
    {
      "cell_type": "code",
      "execution_count": 30,
      "metadata": {},
      "outputs": [
        {
          "data": {
            "text/plain": [
              "True"
            ]
          },
          "execution_count": 30,
          "metadata": {},
          "output_type": "execute_result"
        }
      ],
      "source": [
        "load_dotenv()"
      ]
    },
    {
      "cell_type": "code",
      "execution_count": null,
      "metadata": {},
      "outputs": [
        {
          "ename": "TypeError",
          "evalue": "__init__() got an unexpected keyword argument 'proxies'",
          "output_type": "error",
          "traceback": [
            "\u001b[1;31m---------------------------------------------------------------------------\u001b[0m",
            "\u001b[1;31mTypeError\u001b[0m                                 Traceback (most recent call last)",
            "Cell \u001b[1;32mIn[31], line 2\u001b[0m\n\u001b[0;32m      1\u001b[0m \u001b[38;5;66;03m# Initialize the Groq LLM outside the RAG knowledge context\u001b[39;00m\n\u001b[1;32m----> 2\u001b[0m chat_groq \u001b[38;5;241m=\u001b[39m \u001b[43mChatGroq\u001b[49m\u001b[43m(\u001b[49m\u001b[43mmodel\u001b[49m\u001b[38;5;241;43m=\u001b[39;49m\u001b[38;5;124;43m\"\u001b[39;49m\u001b[38;5;124;43mllama3-70b-8192\u001b[39;49m\u001b[38;5;124;43m\"\u001b[39;49m\u001b[43m)\u001b[49m\n",
            "File \u001b[1;32mc:\\Users\\e1079458\\work\\learn-llamaindex\\llamaindex_using_groq_llms\\.venv\\lib\\site-packages\\langchain_core\\load\\serializable.py:125\u001b[0m, in \u001b[0;36mSerializable.__init__\u001b[1;34m(self, *args, **kwargs)\u001b[0m\n\u001b[0;32m    123\u001b[0m \u001b[38;5;28;01mdef\u001b[39;00m\u001b[38;5;250m \u001b[39m\u001b[38;5;21m__init__\u001b[39m(\u001b[38;5;28mself\u001b[39m, \u001b[38;5;241m*\u001b[39margs: Any, \u001b[38;5;241m*\u001b[39m\u001b[38;5;241m*\u001b[39mkwargs: Any) \u001b[38;5;241m-\u001b[39m\u001b[38;5;241m>\u001b[39m \u001b[38;5;28;01mNone\u001b[39;00m:\n\u001b[0;32m    124\u001b[0m \u001b[38;5;250m    \u001b[39m\u001b[38;5;124;03m\"\"\"\"\"\"\u001b[39;00m\n\u001b[1;32m--> 125\u001b[0m     \u001b[38;5;28msuper\u001b[39m()\u001b[38;5;241m.\u001b[39m\u001b[38;5;21m__init__\u001b[39m(\u001b[38;5;241m*\u001b[39margs, \u001b[38;5;241m*\u001b[39m\u001b[38;5;241m*\u001b[39mkwargs)\n",
            "    \u001b[1;31m[... skipping hidden 1 frame]\u001b[0m\n",
            "File \u001b[1;32mc:\\Users\\e1079458\\work\\learn-llamaindex\\llamaindex_using_groq_llms\\.venv\\lib\\site-packages\\langchain_groq\\chat_models.py:411\u001b[0m, in \u001b[0;36mChatGroq.validate_environment\u001b[1;34m(self)\u001b[0m\n\u001b[0;32m    409\u001b[0m sync_specific: Dict[\u001b[38;5;28mstr\u001b[39m, Any] \u001b[38;5;241m=\u001b[39m {\u001b[38;5;124m\"\u001b[39m\u001b[38;5;124mhttp_client\u001b[39m\u001b[38;5;124m\"\u001b[39m: \u001b[38;5;28mself\u001b[39m\u001b[38;5;241m.\u001b[39mhttp_client}\n\u001b[0;32m    410\u001b[0m \u001b[38;5;28;01mif\u001b[39;00m \u001b[38;5;129;01mnot\u001b[39;00m \u001b[38;5;28mself\u001b[39m\u001b[38;5;241m.\u001b[39mclient:\n\u001b[1;32m--> 411\u001b[0m     \u001b[38;5;28mself\u001b[39m\u001b[38;5;241m.\u001b[39mclient \u001b[38;5;241m=\u001b[39m groq\u001b[38;5;241m.\u001b[39mGroq(\n\u001b[0;32m    412\u001b[0m         \u001b[38;5;241m*\u001b[39m\u001b[38;5;241m*\u001b[39mclient_params, \u001b[38;5;241m*\u001b[39m\u001b[38;5;241m*\u001b[39msync_specific\n\u001b[0;32m    413\u001b[0m     )\u001b[38;5;241m.\u001b[39mchat\u001b[38;5;241m.\u001b[39mcompletions\n\u001b[0;32m    414\u001b[0m \u001b[38;5;28;01mif\u001b[39;00m \u001b[38;5;129;01mnot\u001b[39;00m \u001b[38;5;28mself\u001b[39m\u001b[38;5;241m.\u001b[39masync_client:\n\u001b[0;32m    415\u001b[0m     async_specific: Dict[\u001b[38;5;28mstr\u001b[39m, Any] \u001b[38;5;241m=\u001b[39m {\u001b[38;5;124m\"\u001b[39m\u001b[38;5;124mhttp_client\u001b[39m\u001b[38;5;124m\"\u001b[39m: \u001b[38;5;28mself\u001b[39m\u001b[38;5;241m.\u001b[39mhttp_async_client}\n",
            "File \u001b[1;32mc:\\Users\\e1079458\\work\\learn-llamaindex\\llamaindex_using_groq_llms\\.venv\\lib\\site-packages\\groq\\_client.py:95\u001b[0m, in \u001b[0;36mGroq.__init__\u001b[1;34m(self, api_key, base_url, timeout, max_retries, default_headers, default_query, http_client, _strict_response_validation)\u001b[0m\n\u001b[0;32m     92\u001b[0m \u001b[38;5;28;01mif\u001b[39;00m base_url \u001b[38;5;129;01mis\u001b[39;00m \u001b[38;5;28;01mNone\u001b[39;00m:\n\u001b[0;32m     93\u001b[0m     base_url \u001b[38;5;241m=\u001b[39m \u001b[38;5;124mf\u001b[39m\u001b[38;5;124m\"\u001b[39m\u001b[38;5;124mhttps://api.groq.com\u001b[39m\u001b[38;5;124m\"\u001b[39m\n\u001b[1;32m---> 95\u001b[0m \u001b[38;5;28;43msuper\u001b[39;49m\u001b[43m(\u001b[49m\u001b[43m)\u001b[49m\u001b[38;5;241;43m.\u001b[39;49m\u001b[38;5;21;43m__init__\u001b[39;49m\u001b[43m(\u001b[49m\n\u001b[0;32m     96\u001b[0m \u001b[43m    \u001b[49m\u001b[43mversion\u001b[49m\u001b[38;5;241;43m=\u001b[39;49m\u001b[43m__version__\u001b[49m\u001b[43m,\u001b[49m\n\u001b[0;32m     97\u001b[0m \u001b[43m    \u001b[49m\u001b[43mbase_url\u001b[49m\u001b[38;5;241;43m=\u001b[39;49m\u001b[43mbase_url\u001b[49m\u001b[43m,\u001b[49m\n\u001b[0;32m     98\u001b[0m \u001b[43m    \u001b[49m\u001b[43mmax_retries\u001b[49m\u001b[38;5;241;43m=\u001b[39;49m\u001b[43mmax_retries\u001b[49m\u001b[43m,\u001b[49m\n\u001b[0;32m     99\u001b[0m \u001b[43m    \u001b[49m\u001b[43mtimeout\u001b[49m\u001b[38;5;241;43m=\u001b[39;49m\u001b[43mtimeout\u001b[49m\u001b[43m,\u001b[49m\n\u001b[0;32m    100\u001b[0m \u001b[43m    \u001b[49m\u001b[43mhttp_client\u001b[49m\u001b[38;5;241;43m=\u001b[39;49m\u001b[43mhttp_client\u001b[49m\u001b[43m,\u001b[49m\n\u001b[0;32m    101\u001b[0m \u001b[43m    \u001b[49m\u001b[43mcustom_headers\u001b[49m\u001b[38;5;241;43m=\u001b[39;49m\u001b[43mdefault_headers\u001b[49m\u001b[43m,\u001b[49m\n\u001b[0;32m    102\u001b[0m \u001b[43m    \u001b[49m\u001b[43mcustom_query\u001b[49m\u001b[38;5;241;43m=\u001b[39;49m\u001b[43mdefault_query\u001b[49m\u001b[43m,\u001b[49m\n\u001b[0;32m    103\u001b[0m \u001b[43m    \u001b[49m\u001b[43m_strict_response_validation\u001b[49m\u001b[38;5;241;43m=\u001b[39;49m\u001b[43m_strict_response_validation\u001b[49m\u001b[43m,\u001b[49m\n\u001b[0;32m    104\u001b[0m \u001b[43m\u001b[49m\u001b[43m)\u001b[49m\n\u001b[0;32m    106\u001b[0m \u001b[38;5;28mself\u001b[39m\u001b[38;5;241m.\u001b[39mchat \u001b[38;5;241m=\u001b[39m resources\u001b[38;5;241m.\u001b[39mChat(\u001b[38;5;28mself\u001b[39m)\n\u001b[0;32m    107\u001b[0m \u001b[38;5;28mself\u001b[39m\u001b[38;5;241m.\u001b[39mmodels \u001b[38;5;241m=\u001b[39m resources\u001b[38;5;241m.\u001b[39mModels(\u001b[38;5;28mself\u001b[39m)\n",
            "File \u001b[1;32mc:\\Users\\e1079458\\work\\learn-llamaindex\\llamaindex_using_groq_llms\\.venv\\lib\\site-packages\\groq\\_base_client.py:795\u001b[0m, in \u001b[0;36mSyncAPIClient.__init__\u001b[1;34m(self, version, base_url, max_retries, timeout, transport, proxies, limits, http_client, custom_headers, custom_query, _strict_response_validation)\u001b[0m\n\u001b[0;32m    780\u001b[0m         timeout \u001b[38;5;241m=\u001b[39m DEFAULT_TIMEOUT\n\u001b[0;32m    782\u001b[0m \u001b[38;5;28msuper\u001b[39m()\u001b[38;5;241m.\u001b[39m\u001b[38;5;21m__init__\u001b[39m(\n\u001b[0;32m    783\u001b[0m     version\u001b[38;5;241m=\u001b[39mversion,\n\u001b[0;32m    784\u001b[0m     limits\u001b[38;5;241m=\u001b[39mlimits,\n\u001b[1;32m   (...)\u001b[0m\n\u001b[0;32m    793\u001b[0m     _strict_response_validation\u001b[38;5;241m=\u001b[39m_strict_response_validation,\n\u001b[0;32m    794\u001b[0m )\n\u001b[1;32m--> 795\u001b[0m \u001b[38;5;28mself\u001b[39m\u001b[38;5;241m.\u001b[39m_client \u001b[38;5;241m=\u001b[39m http_client \u001b[38;5;129;01mor\u001b[39;00m \u001b[43mSyncHttpxClientWrapper\u001b[49m\u001b[43m(\u001b[49m\n\u001b[0;32m    796\u001b[0m \u001b[43m    \u001b[49m\u001b[43mbase_url\u001b[49m\u001b[38;5;241;43m=\u001b[39;49m\u001b[43mbase_url\u001b[49m\u001b[43m,\u001b[49m\n\u001b[0;32m    797\u001b[0m \u001b[43m    \u001b[49m\u001b[38;5;66;43;03m# cast to a valid type because mypy doesn't understand our type narrowing\u001b[39;49;00m\n\u001b[0;32m    798\u001b[0m \u001b[43m    \u001b[49m\u001b[43mtimeout\u001b[49m\u001b[38;5;241;43m=\u001b[39;49m\u001b[43mcast\u001b[49m\u001b[43m(\u001b[49m\u001b[43mTimeout\u001b[49m\u001b[43m,\u001b[49m\u001b[43m \u001b[49m\u001b[43mtimeout\u001b[49m\u001b[43m)\u001b[49m\u001b[43m,\u001b[49m\n\u001b[0;32m    799\u001b[0m \u001b[43m    \u001b[49m\u001b[43mproxies\u001b[49m\u001b[38;5;241;43m=\u001b[39;49m\u001b[43mproxies\u001b[49m\u001b[43m,\u001b[49m\n\u001b[0;32m    800\u001b[0m \u001b[43m    \u001b[49m\u001b[43mtransport\u001b[49m\u001b[38;5;241;43m=\u001b[39;49m\u001b[43mtransport\u001b[49m\u001b[43m,\u001b[49m\n\u001b[0;32m    801\u001b[0m \u001b[43m    \u001b[49m\u001b[43mlimits\u001b[49m\u001b[38;5;241;43m=\u001b[39;49m\u001b[43mlimits\u001b[49m\u001b[43m,\u001b[49m\n\u001b[0;32m    802\u001b[0m \u001b[43m    \u001b[49m\u001b[43mfollow_redirects\u001b[49m\u001b[38;5;241;43m=\u001b[39;49m\u001b[38;5;28;43;01mTrue\u001b[39;49;00m\u001b[43m,\u001b[49m\n\u001b[0;32m    803\u001b[0m \u001b[43m\u001b[49m\u001b[43m)\u001b[49m\n",
            "\u001b[1;31mTypeError\u001b[0m: __init__() got an unexpected keyword argument 'proxies'"
          ]
        }
      ],
      "source": [
        "# Initialize the Groq LLM outside the RAG knowledge context\n",
        "llm = ChatGroq(model=\"llama3-70b-8192\")"
      ]
    },
    {
      "cell_type": "code",
      "execution_count": null,
      "metadata": {},
      "outputs": [],
      "source": []
    }
  ],
  "metadata": {
    "accelerator": "GPU",
    "colab": {
      "gpuType": "T4",
      "provenance": []
    },
    "kernelspec": {
      "display_name": "Python 3",
      "language": "python",
      "name": "python3"
    },
    "language_info": {
      "codemirror_mode": {
        "name": "ipython",
        "version": 3
      },
      "file_extension": ".py",
      "mimetype": "text/x-python",
      "name": "python",
      "nbconvert_exporter": "python",
      "pygments_lexer": "ipython3",
      "version": "3.12.7"
    },
    "widgets": {
      "application/vnd.jupyter.widget-state+json": {
        "0283860501394ce480ef5f6628a3f00d": {
          "model_module": "@jupyter-widgets/controls",
          "model_module_version": "1.5.0",
          "model_name": "HTMLModel",
          "state": {
            "_dom_classes": [],
            "_model_module": "@jupyter-widgets/controls",
            "_model_module_version": "1.5.0",
            "_model_name": "HTMLModel",
            "_view_count": null,
            "_view_module": "@jupyter-widgets/controls",
            "_view_module_version": "1.5.0",
            "_view_name": "HTMLView",
            "description": "",
            "description_tooltip": null,
            "layout": "IPY_MODEL_983e200c1e8c4808b405f2a16009c373",
            "placeholder": "​",
            "style": "IPY_MODEL_5c01867db45b4be2a55823fedb39b48e",
            "value": "Parsing nodes: 100%"
          }
        },
        "107a8ddcddf347bd9174bdd314040c69": {
          "model_module": "@jupyter-widgets/controls",
          "model_module_version": "1.5.0",
          "model_name": "HTMLModel",
          "state": {
            "_dom_classes": [],
            "_model_module": "@jupyter-widgets/controls",
            "_model_module_version": "1.5.0",
            "_model_name": "HTMLModel",
            "_view_count": null,
            "_view_module": "@jupyter-widgets/controls",
            "_view_module_version": "1.5.0",
            "_view_name": "HTMLView",
            "description": "",
            "description_tooltip": null,
            "layout": "IPY_MODEL_8c767cc953984ce59f350f2becf2124b",
            "placeholder": "​",
            "style": "IPY_MODEL_aa4e4b420d5d495ba42185f112ac421a",
            "value": " 86/86 [00:00&lt;00:00, 645.24it/s]"
          }
        },
        "15ffe87035e64582bbe14ea56e9f8b4a": {
          "model_module": "@jupyter-widgets/controls",
          "model_module_version": "1.5.0",
          "model_name": "ProgressStyleModel",
          "state": {
            "_model_module": "@jupyter-widgets/controls",
            "_model_module_version": "1.5.0",
            "_model_name": "ProgressStyleModel",
            "_view_count": null,
            "_view_module": "@jupyter-widgets/base",
            "_view_module_version": "1.2.0",
            "_view_name": "StyleView",
            "bar_color": null,
            "description_width": ""
          }
        },
        "18469498fa07402c877fb7f0b0ca36e2": {
          "model_module": "@jupyter-widgets/controls",
          "model_module_version": "1.5.0",
          "model_name": "HTMLModel",
          "state": {
            "_dom_classes": [],
            "_model_module": "@jupyter-widgets/controls",
            "_model_module_version": "1.5.0",
            "_model_name": "HTMLModel",
            "_view_count": null,
            "_view_module": "@jupyter-widgets/controls",
            "_view_module_version": "1.5.0",
            "_view_name": "HTMLView",
            "description": "",
            "description_tooltip": null,
            "layout": "IPY_MODEL_dbf830efb2f24be0ab16d36c13dc744a",
            "placeholder": "​",
            "style": "IPY_MODEL_57c2eb5550b04708b204da51df242416",
            "value": "Generating embeddings: 100%"
          }
        },
        "26ca748035eb4a748d168e60012e5fc4": {
          "model_module": "@jupyter-widgets/base",
          "model_module_version": "1.2.0",
          "model_name": "LayoutModel",
          "state": {
            "_model_module": "@jupyter-widgets/base",
            "_model_module_version": "1.2.0",
            "_model_name": "LayoutModel",
            "_view_count": null,
            "_view_module": "@jupyter-widgets/base",
            "_view_module_version": "1.2.0",
            "_view_name": "LayoutView",
            "align_content": null,
            "align_items": null,
            "align_self": null,
            "border": null,
            "bottom": null,
            "display": null,
            "flex": null,
            "flex_flow": null,
            "grid_area": null,
            "grid_auto_columns": null,
            "grid_auto_flow": null,
            "grid_auto_rows": null,
            "grid_column": null,
            "grid_gap": null,
            "grid_row": null,
            "grid_template_areas": null,
            "grid_template_columns": null,
            "grid_template_rows": null,
            "height": null,
            "justify_content": null,
            "justify_items": null,
            "left": null,
            "margin": null,
            "max_height": null,
            "max_width": null,
            "min_height": null,
            "min_width": null,
            "object_fit": null,
            "object_position": null,
            "order": null,
            "overflow": null,
            "overflow_x": null,
            "overflow_y": null,
            "padding": null,
            "right": null,
            "top": null,
            "visibility": null,
            "width": null
          }
        },
        "277aa06a871248288fa72a68368d4af0": {
          "model_module": "@jupyter-widgets/controls",
          "model_module_version": "1.5.0",
          "model_name": "DescriptionStyleModel",
          "state": {
            "_model_module": "@jupyter-widgets/controls",
            "_model_module_version": "1.5.0",
            "_model_name": "DescriptionStyleModel",
            "_view_count": null,
            "_view_module": "@jupyter-widgets/base",
            "_view_module_version": "1.2.0",
            "_view_name": "StyleView",
            "description_width": ""
          }
        },
        "2fbe9d917b7b46c7aa1a4d0096fe2034": {
          "model_module": "@jupyter-widgets/base",
          "model_module_version": "1.2.0",
          "model_name": "LayoutModel",
          "state": {
            "_model_module": "@jupyter-widgets/base",
            "_model_module_version": "1.2.0",
            "_model_name": "LayoutModel",
            "_view_count": null,
            "_view_module": "@jupyter-widgets/base",
            "_view_module_version": "1.2.0",
            "_view_name": "LayoutView",
            "align_content": null,
            "align_items": null,
            "align_self": null,
            "border": null,
            "bottom": null,
            "display": null,
            "flex": null,
            "flex_flow": null,
            "grid_area": null,
            "grid_auto_columns": null,
            "grid_auto_flow": null,
            "grid_auto_rows": null,
            "grid_column": null,
            "grid_gap": null,
            "grid_row": null,
            "grid_template_areas": null,
            "grid_template_columns": null,
            "grid_template_rows": null,
            "height": null,
            "justify_content": null,
            "justify_items": null,
            "left": null,
            "margin": null,
            "max_height": null,
            "max_width": null,
            "min_height": null,
            "min_width": null,
            "object_fit": null,
            "object_position": null,
            "order": null,
            "overflow": null,
            "overflow_x": null,
            "overflow_y": null,
            "padding": null,
            "right": null,
            "top": null,
            "visibility": null,
            "width": null
          }
        },
        "32850865bfe44288a5cd2e4bf54353d9": {
          "model_module": "@jupyter-widgets/controls",
          "model_module_version": "1.5.0",
          "model_name": "HBoxModel",
          "state": {
            "_dom_classes": [],
            "_model_module": "@jupyter-widgets/controls",
            "_model_module_version": "1.5.0",
            "_model_name": "HBoxModel",
            "_view_count": null,
            "_view_module": "@jupyter-widgets/controls",
            "_view_module_version": "1.5.0",
            "_view_name": "HBoxView",
            "box_style": "",
            "children": [
              "IPY_MODEL_81284073badb47549d0c176fdc9fbdd9",
              "IPY_MODEL_87716697185c45ca8ea2db5b9e91193e",
              "IPY_MODEL_f74c571d13664824b012c9c34e3583f3"
            ],
            "layout": "IPY_MODEL_7879985f1ff44866888b8698aa849ec8"
          }
        },
        "49ffefa159bf41609cbb5302033ee634": {
          "model_module": "@jupyter-widgets/controls",
          "model_module_version": "1.5.0",
          "model_name": "HTMLModel",
          "state": {
            "_dom_classes": [],
            "_model_module": "@jupyter-widgets/controls",
            "_model_module_version": "1.5.0",
            "_model_name": "HTMLModel",
            "_view_count": null,
            "_view_module": "@jupyter-widgets/controls",
            "_view_module_version": "1.5.0",
            "_view_name": "HTMLView",
            "description": "",
            "description_tooltip": null,
            "layout": "IPY_MODEL_65529234483b4967afd53043014d51a8",
            "placeholder": "​",
            "style": "IPY_MODEL_c4ccf291506743e4ab3797403da534e0",
            "value": " 86/86 [00:13&lt;00:00,  7.00it/s]"
          }
        },
        "577bbb7b478f46a58bee0be06af80c9c": {
          "model_module": "@jupyter-widgets/controls",
          "model_module_version": "1.5.0",
          "model_name": "FloatProgressModel",
          "state": {
            "_dom_classes": [],
            "_model_module": "@jupyter-widgets/controls",
            "_model_module_version": "1.5.0",
            "_model_name": "FloatProgressModel",
            "_view_count": null,
            "_view_module": "@jupyter-widgets/controls",
            "_view_module_version": "1.5.0",
            "_view_name": "ProgressView",
            "bar_style": "success",
            "description": "",
            "description_tooltip": null,
            "layout": "IPY_MODEL_7ca384dfab7c49318b8127cf2cb9caa3",
            "max": 86,
            "min": 0,
            "orientation": "horizontal",
            "style": "IPY_MODEL_7be6820c927c4d95815b64b2eec34aa9",
            "value": 86
          }
        },
        "57c2eb5550b04708b204da51df242416": {
          "model_module": "@jupyter-widgets/controls",
          "model_module_version": "1.5.0",
          "model_name": "DescriptionStyleModel",
          "state": {
            "_model_module": "@jupyter-widgets/controls",
            "_model_module_version": "1.5.0",
            "_model_name": "DescriptionStyleModel",
            "_view_count": null,
            "_view_module": "@jupyter-widgets/base",
            "_view_module_version": "1.2.0",
            "_view_name": "StyleView",
            "description_width": ""
          }
        },
        "5c01867db45b4be2a55823fedb39b48e": {
          "model_module": "@jupyter-widgets/controls",
          "model_module_version": "1.5.0",
          "model_name": "DescriptionStyleModel",
          "state": {
            "_model_module": "@jupyter-widgets/controls",
            "_model_module_version": "1.5.0",
            "_model_name": "DescriptionStyleModel",
            "_view_count": null,
            "_view_module": "@jupyter-widgets/base",
            "_view_module_version": "1.2.0",
            "_view_name": "StyleView",
            "description_width": ""
          }
        },
        "65529234483b4967afd53043014d51a8": {
          "model_module": "@jupyter-widgets/base",
          "model_module_version": "1.2.0",
          "model_name": "LayoutModel",
          "state": {
            "_model_module": "@jupyter-widgets/base",
            "_model_module_version": "1.2.0",
            "_model_name": "LayoutModel",
            "_view_count": null,
            "_view_module": "@jupyter-widgets/base",
            "_view_module_version": "1.2.0",
            "_view_name": "LayoutView",
            "align_content": null,
            "align_items": null,
            "align_self": null,
            "border": null,
            "bottom": null,
            "display": null,
            "flex": null,
            "flex_flow": null,
            "grid_area": null,
            "grid_auto_columns": null,
            "grid_auto_flow": null,
            "grid_auto_rows": null,
            "grid_column": null,
            "grid_gap": null,
            "grid_row": null,
            "grid_template_areas": null,
            "grid_template_columns": null,
            "grid_template_rows": null,
            "height": null,
            "justify_content": null,
            "justify_items": null,
            "left": null,
            "margin": null,
            "max_height": null,
            "max_width": null,
            "min_height": null,
            "min_width": null,
            "object_fit": null,
            "object_position": null,
            "order": null,
            "overflow": null,
            "overflow_x": null,
            "overflow_y": null,
            "padding": null,
            "right": null,
            "top": null,
            "visibility": null,
            "width": null
          }
        },
        "751ebe62b40443eca142a39248aa0a26": {
          "model_module": "@jupyter-widgets/base",
          "model_module_version": "1.2.0",
          "model_name": "LayoutModel",
          "state": {
            "_model_module": "@jupyter-widgets/base",
            "_model_module_version": "1.2.0",
            "_model_name": "LayoutModel",
            "_view_count": null,
            "_view_module": "@jupyter-widgets/base",
            "_view_module_version": "1.2.0",
            "_view_name": "LayoutView",
            "align_content": null,
            "align_items": null,
            "align_self": null,
            "border": null,
            "bottom": null,
            "display": null,
            "flex": null,
            "flex_flow": null,
            "grid_area": null,
            "grid_auto_columns": null,
            "grid_auto_flow": null,
            "grid_auto_rows": null,
            "grid_column": null,
            "grid_gap": null,
            "grid_row": null,
            "grid_template_areas": null,
            "grid_template_columns": null,
            "grid_template_rows": null,
            "height": null,
            "justify_content": null,
            "justify_items": null,
            "left": null,
            "margin": null,
            "max_height": null,
            "max_width": null,
            "min_height": null,
            "min_width": null,
            "object_fit": null,
            "object_position": null,
            "order": null,
            "overflow": null,
            "overflow_x": null,
            "overflow_y": null,
            "padding": null,
            "right": null,
            "top": null,
            "visibility": null,
            "width": null
          }
        },
        "7879985f1ff44866888b8698aa849ec8": {
          "model_module": "@jupyter-widgets/base",
          "model_module_version": "1.2.0",
          "model_name": "LayoutModel",
          "state": {
            "_model_module": "@jupyter-widgets/base",
            "_model_module_version": "1.2.0",
            "_model_name": "LayoutModel",
            "_view_count": null,
            "_view_module": "@jupyter-widgets/base",
            "_view_module_version": "1.2.0",
            "_view_name": "LayoutView",
            "align_content": null,
            "align_items": null,
            "align_self": null,
            "border": null,
            "bottom": null,
            "display": null,
            "flex": null,
            "flex_flow": null,
            "grid_area": null,
            "grid_auto_columns": null,
            "grid_auto_flow": null,
            "grid_auto_rows": null,
            "grid_column": null,
            "grid_gap": null,
            "grid_row": null,
            "grid_template_areas": null,
            "grid_template_columns": null,
            "grid_template_rows": null,
            "height": null,
            "justify_content": null,
            "justify_items": null,
            "left": null,
            "margin": null,
            "max_height": null,
            "max_width": null,
            "min_height": null,
            "min_width": null,
            "object_fit": null,
            "object_position": null,
            "order": null,
            "overflow": null,
            "overflow_x": null,
            "overflow_y": null,
            "padding": null,
            "right": null,
            "top": null,
            "visibility": null,
            "width": null
          }
        },
        "7be6820c927c4d95815b64b2eec34aa9": {
          "model_module": "@jupyter-widgets/controls",
          "model_module_version": "1.5.0",
          "model_name": "ProgressStyleModel",
          "state": {
            "_model_module": "@jupyter-widgets/controls",
            "_model_module_version": "1.5.0",
            "_model_name": "ProgressStyleModel",
            "_view_count": null,
            "_view_module": "@jupyter-widgets/base",
            "_view_module_version": "1.2.0",
            "_view_name": "StyleView",
            "bar_color": null,
            "description_width": ""
          }
        },
        "7ca384dfab7c49318b8127cf2cb9caa3": {
          "model_module": "@jupyter-widgets/base",
          "model_module_version": "1.2.0",
          "model_name": "LayoutModel",
          "state": {
            "_model_module": "@jupyter-widgets/base",
            "_model_module_version": "1.2.0",
            "_model_name": "LayoutModel",
            "_view_count": null,
            "_view_module": "@jupyter-widgets/base",
            "_view_module_version": "1.2.0",
            "_view_name": "LayoutView",
            "align_content": null,
            "align_items": null,
            "align_self": null,
            "border": null,
            "bottom": null,
            "display": null,
            "flex": null,
            "flex_flow": null,
            "grid_area": null,
            "grid_auto_columns": null,
            "grid_auto_flow": null,
            "grid_auto_rows": null,
            "grid_column": null,
            "grid_gap": null,
            "grid_row": null,
            "grid_template_areas": null,
            "grid_template_columns": null,
            "grid_template_rows": null,
            "height": null,
            "justify_content": null,
            "justify_items": null,
            "left": null,
            "margin": null,
            "max_height": null,
            "max_width": null,
            "min_height": null,
            "min_width": null,
            "object_fit": null,
            "object_position": null,
            "order": null,
            "overflow": null,
            "overflow_x": null,
            "overflow_y": null,
            "padding": null,
            "right": null,
            "top": null,
            "visibility": null,
            "width": null
          }
        },
        "81284073badb47549d0c176fdc9fbdd9": {
          "model_module": "@jupyter-widgets/controls",
          "model_module_version": "1.5.0",
          "model_name": "HTMLModel",
          "state": {
            "_dom_classes": [],
            "_model_module": "@jupyter-widgets/controls",
            "_model_module_version": "1.5.0",
            "_model_name": "HTMLModel",
            "_view_count": null,
            "_view_module": "@jupyter-widgets/controls",
            "_view_module_version": "1.5.0",
            "_view_name": "HTMLView",
            "description": "",
            "description_tooltip": null,
            "layout": "IPY_MODEL_26ca748035eb4a748d168e60012e5fc4",
            "placeholder": "​",
            "style": "IPY_MODEL_277aa06a871248288fa72a68368d4af0",
            "value": "Parsing nodes: 100%"
          }
        },
        "87716697185c45ca8ea2db5b9e91193e": {
          "model_module": "@jupyter-widgets/controls",
          "model_module_version": "1.5.0",
          "model_name": "FloatProgressModel",
          "state": {
            "_dom_classes": [],
            "_model_module": "@jupyter-widgets/controls",
            "_model_module_version": "1.5.0",
            "_model_name": "FloatProgressModel",
            "_view_count": null,
            "_view_module": "@jupyter-widgets/controls",
            "_view_module_version": "1.5.0",
            "_view_name": "ProgressView",
            "bar_style": "success",
            "description": "",
            "description_tooltip": null,
            "layout": "IPY_MODEL_f1e1d337432942ad81537c848d82575b",
            "max": 86,
            "min": 0,
            "orientation": "horizontal",
            "style": "IPY_MODEL_15ffe87035e64582bbe14ea56e9f8b4a",
            "value": 86
          }
        },
        "8c767cc953984ce59f350f2becf2124b": {
          "model_module": "@jupyter-widgets/base",
          "model_module_version": "1.2.0",
          "model_name": "LayoutModel",
          "state": {
            "_model_module": "@jupyter-widgets/base",
            "_model_module_version": "1.2.0",
            "_model_name": "LayoutModel",
            "_view_count": null,
            "_view_module": "@jupyter-widgets/base",
            "_view_module_version": "1.2.0",
            "_view_name": "LayoutView",
            "align_content": null,
            "align_items": null,
            "align_self": null,
            "border": null,
            "bottom": null,
            "display": null,
            "flex": null,
            "flex_flow": null,
            "grid_area": null,
            "grid_auto_columns": null,
            "grid_auto_flow": null,
            "grid_auto_rows": null,
            "grid_column": null,
            "grid_gap": null,
            "grid_row": null,
            "grid_template_areas": null,
            "grid_template_columns": null,
            "grid_template_rows": null,
            "height": null,
            "justify_content": null,
            "justify_items": null,
            "left": null,
            "margin": null,
            "max_height": null,
            "max_width": null,
            "min_height": null,
            "min_width": null,
            "object_fit": null,
            "object_position": null,
            "order": null,
            "overflow": null,
            "overflow_x": null,
            "overflow_y": null,
            "padding": null,
            "right": null,
            "top": null,
            "visibility": null,
            "width": null
          }
        },
        "933904cd22314aea8a405761c759c9b0": {
          "model_module": "@jupyter-widgets/base",
          "model_module_version": "1.2.0",
          "model_name": "LayoutModel",
          "state": {
            "_model_module": "@jupyter-widgets/base",
            "_model_module_version": "1.2.0",
            "_model_name": "LayoutModel",
            "_view_count": null,
            "_view_module": "@jupyter-widgets/base",
            "_view_module_version": "1.2.0",
            "_view_name": "LayoutView",
            "align_content": null,
            "align_items": null,
            "align_self": null,
            "border": null,
            "bottom": null,
            "display": null,
            "flex": null,
            "flex_flow": null,
            "grid_area": null,
            "grid_auto_columns": null,
            "grid_auto_flow": null,
            "grid_auto_rows": null,
            "grid_column": null,
            "grid_gap": null,
            "grid_row": null,
            "grid_template_areas": null,
            "grid_template_columns": null,
            "grid_template_rows": null,
            "height": null,
            "justify_content": null,
            "justify_items": null,
            "left": null,
            "margin": null,
            "max_height": null,
            "max_width": null,
            "min_height": null,
            "min_width": null,
            "object_fit": null,
            "object_position": null,
            "order": null,
            "overflow": null,
            "overflow_x": null,
            "overflow_y": null,
            "padding": null,
            "right": null,
            "top": null,
            "visibility": null,
            "width": null
          }
        },
        "983e200c1e8c4808b405f2a16009c373": {
          "model_module": "@jupyter-widgets/base",
          "model_module_version": "1.2.0",
          "model_name": "LayoutModel",
          "state": {
            "_model_module": "@jupyter-widgets/base",
            "_model_module_version": "1.2.0",
            "_model_name": "LayoutModel",
            "_view_count": null,
            "_view_module": "@jupyter-widgets/base",
            "_view_module_version": "1.2.0",
            "_view_name": "LayoutView",
            "align_content": null,
            "align_items": null,
            "align_self": null,
            "border": null,
            "bottom": null,
            "display": null,
            "flex": null,
            "flex_flow": null,
            "grid_area": null,
            "grid_auto_columns": null,
            "grid_auto_flow": null,
            "grid_auto_rows": null,
            "grid_column": null,
            "grid_gap": null,
            "grid_row": null,
            "grid_template_areas": null,
            "grid_template_columns": null,
            "grid_template_rows": null,
            "height": null,
            "justify_content": null,
            "justify_items": null,
            "left": null,
            "margin": null,
            "max_height": null,
            "max_width": null,
            "min_height": null,
            "min_width": null,
            "object_fit": null,
            "object_position": null,
            "order": null,
            "overflow": null,
            "overflow_x": null,
            "overflow_y": null,
            "padding": null,
            "right": null,
            "top": null,
            "visibility": null,
            "width": null
          }
        },
        "9dba6a10760e475d9ea3495936ce2217": {
          "model_module": "@jupyter-widgets/controls",
          "model_module_version": "1.5.0",
          "model_name": "FloatProgressModel",
          "state": {
            "_dom_classes": [],
            "_model_module": "@jupyter-widgets/controls",
            "_model_module_version": "1.5.0",
            "_model_name": "FloatProgressModel",
            "_view_count": null,
            "_view_module": "@jupyter-widgets/controls",
            "_view_module_version": "1.5.0",
            "_view_name": "ProgressView",
            "bar_style": "success",
            "description": "",
            "description_tooltip": null,
            "layout": "IPY_MODEL_751ebe62b40443eca142a39248aa0a26",
            "max": 86,
            "min": 0,
            "orientation": "horizontal",
            "style": "IPY_MODEL_b989a64761a54f1099a22edf23861e43",
            "value": 86
          }
        },
        "aa4e4b420d5d495ba42185f112ac421a": {
          "model_module": "@jupyter-widgets/controls",
          "model_module_version": "1.5.0",
          "model_name": "DescriptionStyleModel",
          "state": {
            "_model_module": "@jupyter-widgets/controls",
            "_model_module_version": "1.5.0",
            "_model_name": "DescriptionStyleModel",
            "_view_count": null,
            "_view_module": "@jupyter-widgets/base",
            "_view_module_version": "1.2.0",
            "_view_name": "StyleView",
            "description_width": ""
          }
        },
        "b989a64761a54f1099a22edf23861e43": {
          "model_module": "@jupyter-widgets/controls",
          "model_module_version": "1.5.0",
          "model_name": "ProgressStyleModel",
          "state": {
            "_model_module": "@jupyter-widgets/controls",
            "_model_module_version": "1.5.0",
            "_model_name": "ProgressStyleModel",
            "_view_count": null,
            "_view_module": "@jupyter-widgets/base",
            "_view_module_version": "1.2.0",
            "_view_name": "StyleView",
            "bar_color": null,
            "description_width": ""
          }
        },
        "c4ccf291506743e4ab3797403da534e0": {
          "model_module": "@jupyter-widgets/controls",
          "model_module_version": "1.5.0",
          "model_name": "DescriptionStyleModel",
          "state": {
            "_model_module": "@jupyter-widgets/controls",
            "_model_module_version": "1.5.0",
            "_model_name": "DescriptionStyleModel",
            "_view_count": null,
            "_view_module": "@jupyter-widgets/base",
            "_view_module_version": "1.2.0",
            "_view_name": "StyleView",
            "description_width": ""
          }
        },
        "c4d1238d5b944f46906b61254c1c60d1": {
          "model_module": "@jupyter-widgets/controls",
          "model_module_version": "1.5.0",
          "model_name": "DescriptionStyleModel",
          "state": {
            "_model_module": "@jupyter-widgets/controls",
            "_model_module_version": "1.5.0",
            "_model_name": "DescriptionStyleModel",
            "_view_count": null,
            "_view_module": "@jupyter-widgets/base",
            "_view_module_version": "1.2.0",
            "_view_name": "StyleView",
            "description_width": ""
          }
        },
        "d2a9420610e24657a58754ac36084b4d": {
          "model_module": "@jupyter-widgets/controls",
          "model_module_version": "1.5.0",
          "model_name": "HBoxModel",
          "state": {
            "_dom_classes": [],
            "_model_module": "@jupyter-widgets/controls",
            "_model_module_version": "1.5.0",
            "_model_name": "HBoxModel",
            "_view_count": null,
            "_view_module": "@jupyter-widgets/controls",
            "_view_module_version": "1.5.0",
            "_view_name": "HBoxView",
            "box_style": "",
            "children": [
              "IPY_MODEL_0283860501394ce480ef5f6628a3f00d",
              "IPY_MODEL_9dba6a10760e475d9ea3495936ce2217",
              "IPY_MODEL_107a8ddcddf347bd9174bdd314040c69"
            ],
            "layout": "IPY_MODEL_2fbe9d917b7b46c7aa1a4d0096fe2034"
          }
        },
        "d8d476444d944e419608ba093899a51c": {
          "model_module": "@jupyter-widgets/controls",
          "model_module_version": "1.5.0",
          "model_name": "HBoxModel",
          "state": {
            "_dom_classes": [],
            "_model_module": "@jupyter-widgets/controls",
            "_model_module_version": "1.5.0",
            "_model_name": "HBoxModel",
            "_view_count": null,
            "_view_module": "@jupyter-widgets/controls",
            "_view_module_version": "1.5.0",
            "_view_name": "HBoxView",
            "box_style": "",
            "children": [
              "IPY_MODEL_18469498fa07402c877fb7f0b0ca36e2",
              "IPY_MODEL_577bbb7b478f46a58bee0be06af80c9c",
              "IPY_MODEL_49ffefa159bf41609cbb5302033ee634"
            ],
            "layout": "IPY_MODEL_933904cd22314aea8a405761c759c9b0"
          }
        },
        "dbf830efb2f24be0ab16d36c13dc744a": {
          "model_module": "@jupyter-widgets/base",
          "model_module_version": "1.2.0",
          "model_name": "LayoutModel",
          "state": {
            "_model_module": "@jupyter-widgets/base",
            "_model_module_version": "1.2.0",
            "_model_name": "LayoutModel",
            "_view_count": null,
            "_view_module": "@jupyter-widgets/base",
            "_view_module_version": "1.2.0",
            "_view_name": "LayoutView",
            "align_content": null,
            "align_items": null,
            "align_self": null,
            "border": null,
            "bottom": null,
            "display": null,
            "flex": null,
            "flex_flow": null,
            "grid_area": null,
            "grid_auto_columns": null,
            "grid_auto_flow": null,
            "grid_auto_rows": null,
            "grid_column": null,
            "grid_gap": null,
            "grid_row": null,
            "grid_template_areas": null,
            "grid_template_columns": null,
            "grid_template_rows": null,
            "height": null,
            "justify_content": null,
            "justify_items": null,
            "left": null,
            "margin": null,
            "max_height": null,
            "max_width": null,
            "min_height": null,
            "min_width": null,
            "object_fit": null,
            "object_position": null,
            "order": null,
            "overflow": null,
            "overflow_x": null,
            "overflow_y": null,
            "padding": null,
            "right": null,
            "top": null,
            "visibility": null,
            "width": null
          }
        },
        "e652e92b745a48d388cd73e704a1d6d5": {
          "model_module": "@jupyter-widgets/base",
          "model_module_version": "1.2.0",
          "model_name": "LayoutModel",
          "state": {
            "_model_module": "@jupyter-widgets/base",
            "_model_module_version": "1.2.0",
            "_model_name": "LayoutModel",
            "_view_count": null,
            "_view_module": "@jupyter-widgets/base",
            "_view_module_version": "1.2.0",
            "_view_name": "LayoutView",
            "align_content": null,
            "align_items": null,
            "align_self": null,
            "border": null,
            "bottom": null,
            "display": null,
            "flex": null,
            "flex_flow": null,
            "grid_area": null,
            "grid_auto_columns": null,
            "grid_auto_flow": null,
            "grid_auto_rows": null,
            "grid_column": null,
            "grid_gap": null,
            "grid_row": null,
            "grid_template_areas": null,
            "grid_template_columns": null,
            "grid_template_rows": null,
            "height": null,
            "justify_content": null,
            "justify_items": null,
            "left": null,
            "margin": null,
            "max_height": null,
            "max_width": null,
            "min_height": null,
            "min_width": null,
            "object_fit": null,
            "object_position": null,
            "order": null,
            "overflow": null,
            "overflow_x": null,
            "overflow_y": null,
            "padding": null,
            "right": null,
            "top": null,
            "visibility": null,
            "width": null
          }
        },
        "f1e1d337432942ad81537c848d82575b": {
          "model_module": "@jupyter-widgets/base",
          "model_module_version": "1.2.0",
          "model_name": "LayoutModel",
          "state": {
            "_model_module": "@jupyter-widgets/base",
            "_model_module_version": "1.2.0",
            "_model_name": "LayoutModel",
            "_view_count": null,
            "_view_module": "@jupyter-widgets/base",
            "_view_module_version": "1.2.0",
            "_view_name": "LayoutView",
            "align_content": null,
            "align_items": null,
            "align_self": null,
            "border": null,
            "bottom": null,
            "display": null,
            "flex": null,
            "flex_flow": null,
            "grid_area": null,
            "grid_auto_columns": null,
            "grid_auto_flow": null,
            "grid_auto_rows": null,
            "grid_column": null,
            "grid_gap": null,
            "grid_row": null,
            "grid_template_areas": null,
            "grid_template_columns": null,
            "grid_template_rows": null,
            "height": null,
            "justify_content": null,
            "justify_items": null,
            "left": null,
            "margin": null,
            "max_height": null,
            "max_width": null,
            "min_height": null,
            "min_width": null,
            "object_fit": null,
            "object_position": null,
            "order": null,
            "overflow": null,
            "overflow_x": null,
            "overflow_y": null,
            "padding": null,
            "right": null,
            "top": null,
            "visibility": null,
            "width": null
          }
        },
        "f74c571d13664824b012c9c34e3583f3": {
          "model_module": "@jupyter-widgets/controls",
          "model_module_version": "1.5.0",
          "model_name": "HTMLModel",
          "state": {
            "_dom_classes": [],
            "_model_module": "@jupyter-widgets/controls",
            "_model_module_version": "1.5.0",
            "_model_name": "HTMLModel",
            "_view_count": null,
            "_view_module": "@jupyter-widgets/controls",
            "_view_module_version": "1.5.0",
            "_view_name": "HTMLView",
            "description": "",
            "description_tooltip": null,
            "layout": "IPY_MODEL_e652e92b745a48d388cd73e704a1d6d5",
            "placeholder": "​",
            "style": "IPY_MODEL_c4d1238d5b944f46906b61254c1c60d1",
            "value": " 86/86 [00:00&lt;00:00, 499.15it/s]"
          }
        }
      }
    }
  },
  "nbformat": 4,
  "nbformat_minor": 0
}
